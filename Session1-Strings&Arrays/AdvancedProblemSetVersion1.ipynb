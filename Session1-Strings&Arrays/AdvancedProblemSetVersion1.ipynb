{
 "cells": [
  {
   "cell_type": "code",
   "execution_count": 2,
   "metadata": {},
   "outputs": [
    {
     "name": "stdout",
     "output_type": "stream",
     "text": [
      "3\n",
      "-1\n"
     ]
    }
   ],
   "source": [
    "# Hunny Hunt\n",
    "def linear_search(lst, target):\n",
    "\tfor i in range(len(lst)):\n",
    "\t\tif lst[i] == target:\n",
    "\t\t    return i\n",
    "\treturn -1\n",
    "\t\t\n",
    "items = ['haycorn', 'haycorn', 'haycorn', 'hunny', 'haycorn']\n",
    "target = 'hunny'\n",
    "print(linear_search(items, target))\n",
    "\n",
    "items = ['bed', 'blue jacket', 'red shirt', 'hunny']\n",
    "target = 'red balloon'\n",
    "print(linear_search(items, target))"
   ]
  },
  {
   "cell_type": "code",
   "execution_count": 4,
   "metadata": {},
   "outputs": [
    {
     "name": "stdout",
     "output_type": "stream",
     "text": [
      "2\n",
      "4\n"
     ]
    }
   ],
   "source": [
    "def final_value_after_operations(operations):\n",
    "\ttigger = 1\n",
    "\tfor operation in operations:\n",
    "\t\tif operation == \"bouncy\" or operation == \"flouncy\":\n",
    "\t\t\ttigger += 1\n",
    "\t\telif operation == \"trouncy\" or operation == \"pouncy\":\n",
    "\t\t\ttigger -= 1\n",
    "\treturn tigger\n",
    "\n",
    "operations = [\"trouncy\", \"flouncy\", \"flouncy\"]\n",
    "print(final_value_after_operations(operations))\n",
    "\n",
    "operations = [\"bouncy\", \"bouncy\", \"flouncy\"]\n",
    "print(final_value_after_operations(operations))"
   ]
  }
 ],
 "metadata": {
  "kernelspec": {
   "display_name": "Python 3",
   "language": "python",
   "name": "python3"
  },
  "language_info": {
   "codemirror_mode": {
    "name": "ipython",
    "version": 3
   },
   "file_extension": ".py",
   "mimetype": "text/x-python",
   "name": "python",
   "nbconvert_exporter": "python",
   "pygments_lexer": "ipython3",
   "version": "3.13.2"
  }
 },
 "nbformat": 4,
 "nbformat_minor": 2
}
