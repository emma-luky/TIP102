{
 "cells": [
  {
   "cell_type": "code",
   "execution_count": null,
   "metadata": {},
   "outputs": [],
   "source": [
    "# Hundred Acre Wood\n",
    "def welcome():\n",
    "    print(\"Welcome to The Hundred Acre Wood!\")\n",
    "\n",
    "welcome()"
   ]
  },
  {
   "cell_type": "code",
   "execution_count": null,
   "metadata": {},
   "outputs": [],
   "source": [
    "# greeting\n",
    "def greeting(name: str):\n",
    "    print(\"Welcome to The Hundred Acre Wood \" + name +\"! My name is Christopher Robin.\")\n",
    "\n",
    "greeting(\"Emma\")"
   ]
  },
  {
   "cell_type": "code",
   "execution_count": null,
   "metadata": {},
   "outputs": [],
   "source": [
    "# catchphrase\n",
    "def print_catchphrase(character: str):\n",
    "\tcatchphrases = {\n",
    "\t\t\"Pooh\" : \"Oh brother!\",\n",
    "\t\t\"Tigger\" : \"TTFN: Ta-ta for now!\",\n",
    "\t\t\"Eeyore\" : \"Thanks for noticing me.\",\n",
    "\t\t\"Christopher Robin\" : \"Silly old bear.\"\n",
    "    }\n",
    "\tif character in catchphrases:\n",
    "\t\tprint(catchphrases[character])\n",
    "\telse:\n",
    "\t\tprint(f\"Sorry! I don't know {character}'s catchphrase!\")\n",
    "\t\t\n",
    "# character = \"Pooh\"\n",
    "character = \"Emma\"\n",
    "print_catchphrase(character)"
   ]
  },
  {
   "cell_type": "code",
   "execution_count": null,
   "metadata": {},
   "outputs": [],
   "source": [
    "# Return item\n",
    "def get_item(items, x):\n",
    "    if x >= len(items):\n",
    "        return None\n",
    "    else:\n",
    "        return items[x]\n",
    "    \n",
    "items = [\"piglet\", \"pooh\", \"roo\", \"rabbit\"]\n",
    "x = 2\n",
    "print(get_item(items, x))\n",
    "\n",
    "items = [\"piglet\", \"pooh\", \"roo\", \"rabbit\"]\n",
    "x = 5\n",
    "print(get_item(items, x))"
   ]
  },
  {
   "cell_type": "code",
   "execution_count": null,
   "metadata": {},
   "outputs": [],
   "source": [
    "# Total Honey\n",
    "def sum_honey(hunny_jars: list[int]):\n",
    "\tsum: int = 0\n",
    "\tfor num in hunny_jars:\n",
    "\t\tsum += num\n",
    "\treturn sum\n",
    "\n",
    "hunny_jars = [2, 3, 4, 5]\n",
    "print(sum_honey(hunny_jars))\n",
    "\n",
    "hunny_jars = []\n",
    "print(sum_honey(hunny_jars))"
   ]
  },
  {
   "cell_type": "code",
   "execution_count": 1,
   "metadata": {},
   "outputs": [
    {
     "name": "stdout",
     "output_type": "stream",
     "text": [
      "[2, 4, 6]\n"
     ]
    }
   ],
   "source": [
    "# Double Trouble\n",
    "def doubled(hunny_jars: list[int]) -> list[int]:\n",
    "    # doubled =[]\n",
    "    # for num in hunny_jars:\n",
    "    #     doubled.append(num * 2)\n",
    "    # return doubled\n",
    "    for i in range(len(hunny_jars)):\n",
    "        hunny_jars[i] *= 2\n",
    "    return hunny_jars\n",
    "\n",
    "hunny_jars = [1, 2, 3]\n",
    "print(doubled(hunny_jars))"
   ]
  },
  {
   "cell_type": "code",
   "execution_count": 3,
   "metadata": {},
   "outputs": [
    {
     "name": "stdout",
     "output_type": "stream",
     "text": [
      "3\n",
      "0\n"
     ]
    }
   ],
   "source": [
    "# Poohsticks\n",
    "def count_less_than(race_times, threshold):\n",
    "\tpassing = 0\n",
    "\tfor time in race_times:\n",
    "\t\tif time < threshold:\n",
    "\t\t\tpassing += 1\n",
    "\treturn passing\n",
    "\n",
    "race_times = [1, 2, 3, 4, 5, 6]\n",
    "threshold = 4\n",
    "print(count_less_than(race_times, threshold))\n",
    "\n",
    "race_times = []\n",
    "threshold = 4\n",
    "print(count_less_than(race_times, threshold))"
   ]
  },
  {
   "cell_type": "code",
   "execution_count": 5,
   "metadata": {},
   "outputs": [
    {
     "name": "stdout",
     "output_type": "stream",
     "text": [
      "Pooh's To Dos:\n",
      "1. Count all the bees in the hive\n",
      "2. Chase all the clouds from the sky\n",
      "3. Think\n",
      "4. Stoutness Exercises\n",
      "Pooh's To Dos:\n"
     ]
    }
   ],
   "source": [
    "# Pooh's To Do's\n",
    "def print_todo_list(tasks):\n",
    "\tprint(\"Pooh's To Dos:\")\n",
    "\tcurrent = 1\n",
    "\tfor task in tasks:\n",
    "\t\tprint(f\"{current}. {task}\")\n",
    "\t\tcurrent += 1\n",
    "\t\t\n",
    "task = [\"Count all the bees in the hive\", \"Chase all the clouds from the sky\", \"Think\", \"Stoutness Exercises\"]\n",
    "print_todo_list(task)\n",
    "\n",
    "task = []\n",
    "print_todo_list(task)"
   ]
  },
  {
   "cell_type": "code",
   "execution_count": 6,
   "metadata": {},
   "outputs": [
    {
     "name": "stdout",
     "output_type": "stream",
     "text": [
      "True\n",
      "False\n",
      "True\n"
     ]
    }
   ],
   "source": [
    "# Pairs\n",
    "def can_pair(item_quantities):\n",
    "    for num in item_quantities:\n",
    "        if num % 2 != 0:\n",
    "            return False\n",
    "    return True\n",
    "\n",
    "item_quantities = [2, 4, 6, 8]\n",
    "print(can_pair(item_quantities))\n",
    "\n",
    "item_quantities = [1, 2, 3, 4]\n",
    "print(can_pair(item_quantities))\n",
    "\n",
    "item_quantities = []\n",
    "print(can_pair(item_quantities))"
   ]
  },
  {
   "cell_type": "code",
   "execution_count": 8,
   "metadata": {},
   "outputs": [
    {
     "name": "stdout",
     "output_type": "stream",
     "text": [
      "[1, 2, 3, 6]\n",
      "[1]\n"
     ]
    }
   ],
   "source": [
    "# Split Haycorns\n",
    "def split_haycorns(quantity):\n",
    "\tgroups = []\n",
    "\tfor size in range(1, quantity + 1):\n",
    "\t\tif quantity % size == 0:\n",
    "\t\t\tgroups.append(size)\n",
    "\treturn groups\n",
    "\n",
    "quantity = 6\n",
    "print(split_haycorns(quantity))\n",
    "\n",
    "quantity = 1\n",
    "print(split_haycorns(quantity))"
   ]
  },
  {
   "cell_type": "code",
   "execution_count": 10,
   "metadata": {},
   "outputs": [
    {
     "name": "stdout",
     "output_type": "stream",
     "text": [
      "suspcous\n",
      "\n",
      "hunny\n"
     ]
    }
   ],
   "source": [
    "# T-I-Double Guh-ER\n",
    "def tiggerfy(s):\n",
    "\tletters = {'t', 'i', 'g', 'e', 'r'}\n",
    "\ttiggerfy_str = \"\"\n",
    "\tfor char in s.lower():\n",
    "\t\tif char not in letters:\n",
    "\t\t\ttiggerfy_str += char\n",
    "\treturn tiggerfy_str\n",
    "\n",
    "s = \"suspicerous\"\n",
    "print(tiggerfy(s))\n",
    "\n",
    "s = \"Trigger\"\n",
    "print(tiggerfy(s))\n",
    "\n",
    "s = \"Hunny\"\n",
    "print(tiggerfy(s))"
   ]
  },
  {
   "cell_type": "code",
   "execution_count": 12,
   "metadata": {},
   "outputs": [
    {
     "name": "stdout",
     "output_type": "stream",
     "text": [
      "[0, 3]\n",
      "[]\n"
     ]
    }
   ],
   "source": [
    "# Thistle Hunt\n",
    "def locate_thistles(items):\n",
    "\tindexes = []\n",
    "\tfor i in range(len(items)):\n",
    "\t\tif items[i] == \"thistle\":\n",
    "\t\t\tindexes.append(i)\n",
    "\treturn indexes\n",
    "\n",
    "items = [\"thistle\", \"stick\", \"carrot\", \"thistle\", \"eeyore's tail\"]\n",
    "print(locate_thistles(items))\n",
    "\n",
    "items = [\"book\", \"bouncy ball\", \"leaf\", \"red balloon\"]\n",
    "print(locate_thistles(items))"
   ]
  }
 ],
 "metadata": {
  "kernelspec": {
   "display_name": "Python 3",
   "language": "python",
   "name": "python3"
  },
  "language_info": {
   "codemirror_mode": {
    "name": "ipython",
    "version": 3
   },
   "file_extension": ".py",
   "mimetype": "text/x-python",
   "name": "python",
   "nbconvert_exporter": "python",
   "pygments_lexer": "ipython3",
   "version": "3.13.2"
  }
 },
 "nbformat": 4,
 "nbformat_minor": 2
}
