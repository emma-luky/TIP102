{
 "cells": [
  {
   "cell_type": "code",
   "execution_count": null,
   "metadata": {},
   "outputs": [
    {
     "name": "stdout",
     "output_type": "stream",
     "text": [
      "4\n"
     ]
    }
   ],
   "source": [
    "## PEER MOCK INTERVIEW\n",
    "\n",
    "# traverse the list\n",
    "# keep track of the length\n",
    "\n",
    "# check if the length is even or odd\n",
    "# if even i will get hte second middle: 6/2 3\n",
    "# if odd i will get teh middle\n",
    "\n",
    "# traverse the list a second time\n",
    "# stopping when i get to the middle node\n",
    "\n",
    "class Node:\n",
    "    def __init__(self, val, next):\n",
    "        self.val = val\n",
    "        self.next = next\n",
    "\n",
    "def middle(head):\n",
    "    current = head\n",
    "    length = 0\n",
    "    while current:\n",
    "        length += 1\n",
    "        current = current.next\n",
    "\n",
    "    if length % 2 == 0:\n",
    "        middle = length/2\n",
    "    else:\n",
    "        middle = length//2\n",
    "\n",
    "    current = head\n",
    "    counter = 0\n",
    "    while current:\n",
    "        if counter == middle:\n",
    "            return current.val\n",
    "        counter += 1\n",
    "        current = current.next\n",
    "\n",
    "# odd example\n",
    "# head = Node(1, Node(2, Node(3, None)))\n",
    "# print(middle(head))\n",
    "\n",
    "# even example\n",
    "# head = Node(3, Node(4, None))\n",
    "# print(middle(head))"
   ]
  },
  {
   "cell_type": "code",
   "execution_count": null,
   "metadata": {},
   "outputs": [
    {
     "name": "stdout",
     "output_type": "stream",
     "text": [
      "True\n"
     ]
    }
   ],
   "source": [
    "class Node:\n",
    "    def __init__(self, value, next=None):\n",
    "        self.value = value\n",
    "        self.next = next\n",
    "\n",
    "def is_circular(clues):\n",
    "    slow = clues\n",
    "    fast = clues\n",
    "    while fast and fast.next:\n",
    "        slow = slow.next\n",
    "        fast = fast.next.next\n",
    "        if slow == fast:\n",
    "            return True\n",
    "    return False\n",
    "\n",
    "clue1 = Node(\"The stolen goods are at an abandoned warehouse\")\n",
    "clue2 = Node(\"The mayor is accepting bribes\")\n",
    "clue3 = Node(\"They dumped their disguise in the lake\")\n",
    "clue1.next = clue2\n",
    "clue2.next = clue3\n",
    "clue3.next = clue1\n",
    "\n",
    "print(is_circular(clue1))"
   ]
  },
  {
   "cell_type": "code",
   "execution_count": 12,
   "metadata": {},
   "outputs": [
    {
     "name": "stdout",
     "output_type": "stream",
     "text": [
      "['They dumped their disguise in the lake', 'The stolen goods are at an abandoned warehouse', 'The mayor is accepting bribes']\n",
      "[]\n"
     ]
    }
   ],
   "source": [
    "class Node:\n",
    "    def __init__(self, value, next=None):\n",
    "        self.value = value\n",
    "        self.next = next\n",
    "\n",
    "def collect_false_evidence(evidence):\n",
    "    # traverse the list\n",
    "    # identify a cylce (if there is one)\n",
    "    # if there is one traverssing the cylce node until it gets back to itself\n",
    "    # else return empty\n",
    "    slow = evidence\n",
    "    fast = evidence\n",
    "    isCycle = False\n",
    "    while fast and fast.next:\n",
    "        slow = slow.next\n",
    "        fast = fast.next.next\n",
    "        if slow == fast:\n",
    "            isCycle = True\n",
    "            cycleNode = slow\n",
    "            break\n",
    "    result = []\n",
    "    if isCycle:\n",
    "        while cycleNode:\n",
    "            result.append(cycleNode.value)\n",
    "            cycleNode = cycleNode.next\n",
    "            if cycleNode == slow:\n",
    "                break\n",
    "    return result\n",
    "\n",
    "clue1 = Node(\"Unmarked sedan seen near the crime scene\")\n",
    "clue2 = Node(\"The stolen goods are at an abandoned warehouse\")\n",
    "clue3 = Node(\"The mayor is accepting bribes\")\n",
    "clue4 = Node(\"They dumped their disguise in the lake\")\n",
    "clue1.next = clue2\n",
    "clue2.next = clue3\n",
    "clue3.next = clue4\n",
    "clue4.next = clue2\n",
    "\n",
    "clue5 = Node(\"A masked figure was seen fleeing the scene\")\n",
    "clue6 = Node(\"Footprints lead to the nearby woods\")\n",
    "clue7 = Node(\"A broken window was found at the back\")\n",
    "clue5.next = clue6\n",
    "clue6.next = clue7\n",
    "\n",
    "print(collect_false_evidence(clue1))\n",
    "print(collect_false_evidence(clue5))"
   ]
  },
  {
   "cell_type": "code",
   "execution_count": 1,
   "metadata": {},
   "outputs": [
    {
     "name": "stdout",
     "output_type": "stream",
     "text": [
      "4 -> 5 -> 1 -> 3 -> 2 -> 2\n"
     ]
    }
   ],
   "source": [
    "class Node:\n",
    "    def __init__(self, value, next=None):\n",
    "        self.value = value\n",
    "        self.next = next\n",
    "    \n",
    "# For testing\n",
    "def print_linked_list(head):\n",
    "    current = head\n",
    "    while current:\n",
    "        print(current.value, end=\" -> \" if current.next else \"\\n\")\n",
    "        current = current.next\n",
    "\n",
    "def partition(suspect_ratings, threshold):\n",
    "    greater_head = greater_tail = None  # List for values > threshold\n",
    "    lower_head = lower_tail = None  # List for values <= threshold\n",
    "\n",
    "    current = suspect_ratings\n",
    "\n",
    "    while current:\n",
    "        next_node = current.next  # Store next node\n",
    "        current.next = None  # Detach current node\n",
    "\n",
    "        if current.value > threshold:\n",
    "            if not greater_head:\n",
    "                greater_head = greater_tail = current\n",
    "            else:\n",
    "                greater_tail.next = current\n",
    "                greater_tail = current\n",
    "        else:\n",
    "            if not lower_head:\n",
    "                lower_head = lower_tail = current\n",
    "            else:\n",
    "                lower_tail.next = current\n",
    "                lower_tail = current\n",
    "\n",
    "        current = next_node\n",
    "\n",
    "    # Merge lists\n",
    "    if greater_tail:\n",
    "        greater_tail.next = lower_head\n",
    "        return greater_head\n",
    "    return lower_head\n",
    "\n",
    "suspect_ratings = Node(1, Node(4, Node(3, Node(2, Node(5, Node(2))))))\n",
    "\n",
    "print_linked_list(partition(suspect_ratings, 3))"
   ]
  }
 ],
 "metadata": {
  "kernelspec": {
   "display_name": "Python 3",
   "language": "python",
   "name": "python3"
  },
  "language_info": {
   "codemirror_mode": {
    "name": "ipython",
    "version": 3
   },
   "file_extension": ".py",
   "mimetype": "text/x-python",
   "name": "python",
   "nbconvert_exporter": "python",
   "pygments_lexer": "ipython3",
   "version": "3.13.2"
  }
 },
 "nbformat": 4,
 "nbformat_minor": 2
}
