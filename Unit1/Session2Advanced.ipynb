{
 "cells": [
  {
   "cell_type": "code",
   "execution_count": 34,
   "metadata": {},
   "outputs": [
    {
     "name": "stdout",
     "output_type": "stream",
     "text": [
      "[1, 4]\n",
      "[2, 5]\n",
      "[3, 6]\n"
     ]
    }
   ],
   "source": [
    "# Transpose Matrix\n",
    "def transpose(matrix):\n",
    "    rows = len(matrix)\n",
    "    columns = len(matrix[0])\n",
    "    transpose = [[0] * rows for _ in range(columns)]\n",
    "\n",
    "    for columns in range(columns):\n",
    "        for row in range(rows):\n",
    "            transpose[columns][row] = matrix[row][columns]\n",
    "    for row in transpose:\n",
    "        print(row)\n",
    "\n",
    "matrix = [\n",
    "    [1, 2, 3],\n",
    "    [4, 5, 6]\n",
    "]\n",
    "\n",
    "transpose(matrix)"
   ]
  },
  {
   "cell_type": "code",
   "execution_count": 6,
   "metadata": {},
   "outputs": [
    {
     "name": "stdout",
     "output_type": "stream",
     "text": [
      "['eeyore', 'roo', 'piglet', 'christopher robin', 'pooh']\n"
     ]
    }
   ],
   "source": [
    "# Two-Pointer Reverse List\n",
    "def reverse_list(lst):\n",
    "    left = 0\n",
    "    right = len(lst) - 1\n",
    "\n",
    "    while left <= right:\n",
    "        lst[left], lst[right] = lst[right], lst[left]\n",
    "        left += 1\n",
    "        right -=1\n",
    "    \n",
    "    print(lst)\n",
    "\n",
    "lst = [\"pooh\", \"christopher robin\", \"piglet\", \"roo\", \"eeyore\"]\n",
    "reverse_list(lst)"
   ]
  },
  {
   "cell_type": "code",
   "execution_count": 30,
   "metadata": {},
   "outputs": [
    {
     "name": "stdout",
     "output_type": "stream",
     "text": [
      "4\n",
      "4\n"
     ]
    }
   ],
   "source": [
    "# Remove Duplicates\n",
    "def remove_dupes_alt(items):\n",
    "    prev = 0\n",
    "    next = 1\n",
    "    while next < len(items):\n",
    "        while next < len(items) and items[prev] == items[next]:\n",
    "            items.pop(next)\n",
    "        prev +=1\n",
    "        next +=1\n",
    "    return len(items)\n",
    "\n",
    "items = [\"extract of malt\", \"haycorns\", \"honey\", \"thistle\", \"thistle\"]\n",
    "print(remove_dupes_alt(items))\n",
    "\n",
    "items = [\"extract of malt\", \"haycorns\", \"honey\", \"thistle\"]\n",
    "print(remove_dupes_alt(items))"
   ]
  },
  {
   "cell_type": "code",
   "execution_count": null,
   "metadata": {},
   "outputs": [
    {
     "name": "stdout",
     "output_type": "stream",
     "text": [
      "[4, 2, 1, 3]\n",
      "[0]\n"
     ]
    }
   ],
   "source": [
    "# Sort Array by Parity\n",
    "def sort_by_parity(nums):\n",
    "    left = 0\n",
    "    right = len(nums) - 1\n",
    "    while (left <= right):\n",
    "        while right > left and nums[right] % 2 == 0:\n",
    "            nums[left], nums[right] = nums[right], nums[left]\n",
    "            left += 1\n",
    "        right -= 1\n",
    "    print(nums)\n",
    "\n",
    "nums = [3, 1, 2, 4]\n",
    "sort_by_parity(nums)\n",
    "\n",
    "nums = [0]\n",
    "sort_by_parity(nums)"
   ]
  },
  {
   "cell_type": "code",
   "execution_count": null,
   "metadata": {},
   "outputs": [
    {
     "name": "stdout",
     "output_type": "stream",
     "text": [
      "49\n",
      "1\n"
     ]
    }
   ],
   "source": [
    "# Container with Most Honey\n",
    "def most_honey(height):\n",
    "\tleft = 0\n",
    "\tright = len(height) - 1\n",
    "\tmax_honey = 0\n",
    "\twhile left < right:\n",
    "\t\t#calculate amount\n",
    "\t\twidth = right - left\n",
    "\t\tif height[left] > height[right]:\n",
    "\t\t\tthis_height = height[right]\n",
    "\t\t\tright -= 1\n",
    "\t\telse:\n",
    "\t\t\tthis_height = height[left]\n",
    "\t\t\tleft += 1\n",
    "\t\tsize = this_height * width\n",
    "\t\t# update max\n",
    "\t\tmax_honey = max(size, max_honey)\n",
    "\tprint(max_honey)\n",
    "\n",
    "height = [1, 8, 6, 2, 5, 4, 8, 3, 7]\n",
    "most_honey(height)\n",
    "\n",
    "height = [1, 1]\n",
    "most_honey(height)"
   ]
  },
  {
   "cell_type": "code",
   "execution_count": null,
   "metadata": {},
   "outputs": [
    {
     "name": "stdout",
     "output_type": "stream",
     "text": [
      "[[1, 6], [8, 10], [15, 18]]\n"
     ]
    }
   ],
   "source": [
    "# Merge Intervals\n",
    "def merge_intervals(intervals):\n",
    "    intervals.sort()\n",
    "    results = [list(intervals[0])]\n",
    "\n",
    "    for i in range(1, len(intervals)):\n",
    "        last_start, last_end = results[-1]\n",
    "        this_start, this_end = intervals[i]\n",
    "\n",
    "        if this_start <= last_end:\n",
    "            results[-1][1] = max(last_end, this_end)\n",
    "        else:\n",
    "            results.append(list(intervals[i]))\n",
    "\n",
    "    return results\n",
    "\n",
    "intervals = [(1, 3), (2, 6), (8, 10), (15, 18)]\n",
    "print(merge_intervals(intervals))\n"
   ]
  }
 ],
 "metadata": {
  "kernelspec": {
   "display_name": "Python 3",
   "language": "python",
   "name": "python3"
  },
  "language_info": {
   "codemirror_mode": {
    "name": "ipython",
    "version": 3
   },
   "file_extension": ".py",
   "mimetype": "text/x-python",
   "name": "python",
   "nbconvert_exporter": "python",
   "pygments_lexer": "ipython3",
   "version": "3.13.2"
  }
 },
 "nbformat": 4,
 "nbformat_minor": 2
}
