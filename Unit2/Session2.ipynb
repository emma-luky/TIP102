{
 "cells": [
  {
   "cell_type": "code",
   "execution_count": 2,
   "metadata": {},
   "outputs": [
    {
     "name": "stdout",
     "output_type": "stream",
     "text": [
      "Vaquita\n"
     ]
    }
   ],
   "source": [
    "def most_endangered(species_list):\n",
    "    smallest = species_list[0]['population']\n",
    "    species = species_list[0]['name']\n",
    "    for item in species_list:\n",
    "        if item['population'] < smallest:\n",
    "            smallest = item['population']\n",
    "            species = item['name']\n",
    "    return species\n",
    "\n",
    "species_list = [\n",
    "    {\"name\": \"Amur Leopard\",\n",
    "     \"habitat\": \"Temperate forests\",\n",
    "     \"population\": 84\n",
    "    },\n",
    "    {\"name\": \"Javan Rhino\",\n",
    "     \"habitat\": \"Tropical forests\",\n",
    "     \"population\": 72\n",
    "    },\n",
    "    {\"name\": \"Vaquita\",\n",
    "     \"habitat\": \"Marine\",\n",
    "     \"population\": 10\n",
    "    }\n",
    "]\n",
    "\n",
    "print(most_endangered(species_list))\n"
   ]
  },
  {
   "cell_type": "code",
   "execution_count": null,
   "metadata": {},
   "outputs": [
    {
     "name": "stdout",
     "output_type": "stream",
     "text": [
      "3\n",
      "0\n"
     ]
    }
   ],
   "source": [
    "def count_endangered_species(endangered_species, observed_species):\n",
    "    # count\n",
    "    count = 0\n",
    "    endangered = set(endangered_species)\n",
    "    # loop through observed and incemnet count when species in endangered\n",
    "    for species in observed_species:\n",
    "        if species in endangered:\n",
    "            count += 1\n",
    "    # return count \n",
    "    return count\n",
    "\n",
    "endangered_species1 = \"aA\"\n",
    "observed_species1 = \"aAAbbbb\"\n",
    "\n",
    "endangered_species2 = \"z\"\n",
    "observed_species2 = \"ZZ\"\n",
    "\n",
    "print(count_endangered_species(endangered_species1, observed_species1)) \n",
    "print(count_endangered_species(endangered_species2, observed_species2))  \n",
    "    "
   ]
  },
  {
   "cell_type": "code",
   "execution_count": 8,
   "metadata": {},
   "outputs": [
    {
     "name": "stdout",
     "output_type": "stream",
     "text": [
      "45\n",
      "4\n"
     ]
    }
   ],
   "source": [
    "def navigate_research_station(station_layout, observations):\n",
    "    layout = {}\n",
    "    # create dictionart for station and location\n",
    "    for i in range(len(station_layout)):\n",
    "        layout[station_layout[i]] = i\n",
    "    # loop through observations and add to distance\n",
    "    distance = layout[observations[0]]\n",
    "    for i in range(1, len(observations)):\n",
    "        distance += abs(layout[observations[i - 1]] - layout[observations[i]])\n",
    "    return distance\n",
    "\n",
    "station_layout1 = \"pqrstuvwxyzabcdefghijklmno\"\n",
    "observations1 = \"wildlife\"\n",
    "\n",
    "station_layout2 = \"abcdefghijklmnopqrstuvwxyz\"\n",
    "observations2 = \"cba\"\n",
    "\n",
    "print(navigate_research_station(station_layout1, observations1))  \n",
    "print(navigate_research_station(station_layout2, observations2))"
   ]
  },
  {
   "cell_type": "code",
   "execution_count": null,
   "metadata": {},
   "outputs": [
    {
     "name": "stdout",
     "output_type": "stream",
     "text": [
      "['🐯', '🐯', '🐯', '🦌', '🐘', '🦁', '🦁', '🐍', '🐻', '🐼', '🦑']\n",
      "['cardinal', 'sparrow', 'bluejay', 'crow', 'robin']\n"
     ]
    }
   ],
   "source": [
    "# TODO: help\n",
    "def prioritize_observations(observed_species, priority_species):\n",
    "    # *priority is always in observations\n",
    "    # Create a dictionary to map priority species to their index\n",
    "    priority_index = {species: i for i, species in enumerate(priority_species)}\n",
    "\n",
    "    # Sort observed_species based on priority and then alphabetically for non-priority\n",
    "    return sorted(observed_species, key=lambda x: (priority_index.get(x, float('inf')), x))\n",
    "\n",
    "# Example usage\n",
    "observed_species1 = [\"🐯\", \"🦁\", \"🦌\", \"🦁\", \"🐯\", \"🐘\", \"🐍\", \"🦑\", \"🐻\", \"🐯\", \"🐼\"]\n",
    "priority_species1 = [\"🐯\", \"🦌\", \"🐘\", \"🦁\"]\n",
    "\n",
    "observed_species2 = [\"bluejay\", \"sparrow\", \"cardinal\", \"robin\", \"crow\"]\n",
    "priority_species2 = [\"cardinal\", \"sparrow\", \"bluejay\"]\n",
    "\n",
    "print(prioritize_observations(observed_species1, priority_species1))\n",
    "print(prioritize_observations(observed_species2, priority_species2))"
   ]
  }
 ],
 "metadata": {
  "kernelspec": {
   "display_name": "Python 3",
   "language": "python",
   "name": "python3"
  },
  "language_info": {
   "codemirror_mode": {
    "name": "ipython",
    "version": 3
   },
   "file_extension": ".py",
   "mimetype": "text/x-python",
   "name": "python",
   "nbconvert_exporter": "python",
   "pygments_lexer": "ipython3",
   "version": "3.13.2"
  }
 },
 "nbformat": 4,
 "nbformat_minor": 2
}
