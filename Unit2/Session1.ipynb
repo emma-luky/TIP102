{
 "cells": [
  {
   "cell_type": "code",
   "execution_count": 1,
   "metadata": {},
   "outputs": [
    {
     "name": "stdout",
     "output_type": "stream",
     "text": [
      "{'Kendrick Lamar': '9:30 PM', 'Chappell Roan': '5:00 PM', 'Mitski': '2:00 PM', 'Rosalia': '7:30 PM'}\n",
      "{}\n"
     ]
    }
   ],
   "source": [
    "# Festival Lineup\n",
    "def lineup(artists, set_times):\n",
    "    # set empty dictionary\n",
    "    times = {}\n",
    "    # loop through one of the lists\n",
    "    for i in range(len(artists)):\n",
    "        # for each index artist[i] = set_times[i]\n",
    "        # add to dictionary\n",
    "        times[artists[i]] = set_times[i]\n",
    "    return times\n",
    "    # return dictionary\n",
    "\n",
    "artists1 = [\"Kendrick Lamar\", \"Chappell Roan\", \"Mitski\", \"Rosalia\"]\n",
    "set_times1 = [\"9:30 PM\", \"5:00 PM\", \"2:00 PM\", \"7:30 PM\"]\n",
    "\n",
    "artists2 = []\n",
    "set_times2 = []\n",
    "\n",
    "print(lineup(artists1, set_times1))\n",
    "print(lineup(artists2, set_times2))"
   ]
  },
  {
   "cell_type": "code",
   "execution_count": 2,
   "metadata": {},
   "outputs": [
    {
     "name": "stdout",
     "output_type": "stream",
     "text": [
      "{'day': 'Friday', 'time': '9:00 PM', 'stage': 'Main Stage'}\n",
      "{'message': 'Artist not found'}\n"
     ]
    }
   ],
   "source": [
    "# Planning App\n",
    "def get_artist_info(artist, festival_schedule):\n",
    "    # if artist in festival_scheduale return the value\n",
    "    if artist in festival_schedule:\n",
    "        return festival_schedule[artist]\n",
    "    # else return {\"message\": \"Artist not found\"}\n",
    "    else:\n",
    "        return {\"message\": \"Artist not found\"}\n",
    "    \n",
    "festival_schedule = {\n",
    "    \"Blood Orange\": {\"day\": \"Friday\", \"time\": \"9:00 PM\", \"stage\": \"Main Stage\"},\n",
    "    \"Metallica\": {\"day\": \"Saturday\", \"time\": \"8:00 PM\", \"stage\": \"Main Stage\"},\n",
    "    \"Kali Uchis\": {\"day\": \"Sunday\", \"time\": \"7:00 PM\", \"stage\": \"Second Stage\"},\n",
    "    \"Lawrence\": {\"day\": \"Friday\", \"time\": \"6:00 PM\", \"stage\": \"Main Stage\"}\n",
    "}\n",
    "\n",
    "print(get_artist_info(\"Blood Orange\", festival_schedule)) \n",
    "print(get_artist_info(\"Taylor Swift\", festival_schedule))  "
   ]
  },
  {
   "cell_type": "code",
   "execution_count": 3,
   "metadata": {},
   "outputs": [
    {
     "name": "stdout",
     "output_type": "stream",
     "text": [
      "4500\n"
     ]
    }
   ],
   "source": [
    "# ticket sales\n",
    "def total_sales(ticket_sales):\n",
    "    sum = 0\n",
    "    # loop through disctionary\n",
    "    for sale in ticket_sales:\n",
    "    # add values of keys to sum\n",
    "        sum += ticket_sales[sale]\n",
    "    # return sum\n",
    "    return sum\n",
    "\n",
    "ticket_sales = {\"Friday\": 200, \"Saturday\": 1000, \"Sunday\": 800, \"3-Day Pass\": 2500}\n",
    "\n",
    "print(total_sales(ticket_sales))"
   ]
  },
  {
   "cell_type": "code",
   "execution_count": 8,
   "metadata": {},
   "outputs": [
    {
     "name": "stdout",
     "output_type": "stream",
     "text": [
      "{'Stromae': '9:00 PM', 'HARDY': '7:00 PM'}\n"
     ]
    }
   ],
   "source": [
    "# Scheduling Conflict\n",
    "def identify_conflicts(venue1_schedule, venue2_schedule):\n",
    "    # are dicts same length?\n",
    "    conflicts = {}\n",
    "    # find shorter dict\n",
    "    if len(venue1_schedule) > len(venue2_schedule):\n",
    "        shorter = venue2_schedule\n",
    "    else:\n",
    "        shorter = venue1_schedule\n",
    "    # loop through shorter dict\n",
    "    for artist in venue1_schedule:\n",
    "        # if key is in the longer dict\n",
    "        if artist in venue2_schedule:\n",
    "            # check if the values are the same\n",
    "            # if they are, add to conlficts\n",
    "            if venue1_schedule[artist] == venue2_schedule[artist]:\n",
    "                conflicts[artist] = venue1_schedule[artist]\n",
    "    return conflicts\n",
    "\n",
    "venue1_schedule = {\n",
    "    \"Stromae\": \"9:00 PM\",\n",
    "    \"Janelle Monáe\": \"8:00 PM\",\n",
    "    \"HARDY\": \"7:00 PM\",\n",
    "    \"Bruce Springsteen\": \"6:00 PM\"\n",
    "}\n",
    "\n",
    "venue2_schedule = {\n",
    "    \"Stromae\": \"9:00 PM\",\n",
    "    \"Janelle Monáe\": \"10:30 PM\",\n",
    "    \"HARDY\": \"7:00 PM\",\n",
    "    \"Wizkid\": \"6:00 PM\"\n",
    "}\n",
    "\n",
    "print(identify_conflicts(venue1_schedule, venue2_schedule))"
   ]
  },
  {
   "cell_type": "code",
   "execution_count": null,
   "metadata": {},
   "outputs": [
    {
     "name": "stdout",
     "output_type": "stream",
     "text": [
      "SZA\n",
      "Ethel Cain\n"
     ]
    }
   ],
   "source": [
    "# Best Set\n",
    "def best_set(votes):\n",
    "    # create dict best_artist with key artist and value count\n",
    "    artist_votes = {}\n",
    "    # loop through votes\n",
    "    for vote in votes:\n",
    "        # add to count for each artist that appears\n",
    "        if votes[vote] not in artist_votes:\n",
    "            artist_votes[votes[vote]] = 1\n",
    "        else:\n",
    "            artist_votes[votes[vote]] += 1\n",
    "    max = 0\n",
    "    best_artist =''\n",
    "    for artist in artist_votes:\n",
    "        if artist_votes[artist] > max:\n",
    "            max = artist_votes[artist]\n",
    "            best_artist = artist\n",
    "    return best_artist\n",
    "    # return artist\n",
    "\n",
    "votes1 = {\n",
    "    1234: \"SZA\", \n",
    "    1235: \"Yo-Yo Ma\",\n",
    "    1236: \"Ethel Cain\",\n",
    "    1237: \"Ethel Cain\",\n",
    "    1238: \"SZA\",\n",
    "    1239: \"SZA\"\n",
    "}\n",
    "\n",
    "votes2 = {\n",
    "    1234: \"SZA\", \n",
    "    1235: \"Yo-Yo Ma\",\n",
    "    1236: \"Ethel Cain\",\n",
    "    1237: \"Ethel Cain\",\n",
    "    1238: \"SZA\"\n",
    "}\n",
    "\n",
    "print(best_set(votes1))\n",
    "print(best_set(votes2))"
   ]
  },
  {
   "cell_type": "code",
   "execution_count": 18,
   "metadata": {},
   "outputs": [
    {
     "name": "stdout",
     "output_type": "stream",
     "text": [
      "250\n",
      "440\n"
     ]
    }
   ],
   "source": [
    "# Performaces with Maximum Audience\n",
    "def max_audience_performances(audiences):\n",
    "    # find max\n",
    "    max_size = max(audiences)\n",
    "    # find the number of times max occurs\n",
    "    count = 0\n",
    "    for num in audiences:\n",
    "        if num == max_size:\n",
    "            count +=1\n",
    "    return max_size * count\n",
    "    # return max * occurances\n",
    "\n",
    "audiences1 = [100, 200, 200, 150, 100, 250]\n",
    "audiences2 = [120, 180, 220, 150, 220]\n",
    "\n",
    "print(max_audience_performances(audiences1))\n",
    "print(max_audience_performances(audiences2))"
   ]
  },
  {
   "cell_type": "code",
   "execution_count": 24,
   "metadata": {},
   "outputs": [
    {
     "name": "stdout",
     "output_type": "stream",
     "text": [
      "250\n",
      "440\n"
     ]
    }
   ],
   "source": [
    "# Performaces with Maximum Audience\n",
    "def max_audience_performances(audiences):\n",
    "    # loop through array\n",
    "    sizes = {}\n",
    "    for size in audiences:\n",
    "        # add size to dict with count\n",
    "        if size in sizes:\n",
    "            sizes[size] += 1\n",
    "        else:\n",
    "            sizes[size] = 1\n",
    "    # find max and multiply by count\n",
    "    max_count = 0\n",
    "    max_size = 0\n",
    "    for size in sizes:\n",
    "        if size > max_size:\n",
    "            max_size = size\n",
    "            max_count = sizes[size]\n",
    "    return max_size * max_count\n",
    "\n",
    "audiences1 = [100, 200, 200, 150, 100, 250]\n",
    "audiences2 = [120, 180, 220, 150, 220]\n",
    "\n",
    "print(max_audience_performances(audiences1))\n",
    "print(max_audience_performances(audiences2))"
   ]
  },
  {
   "cell_type": "code",
   "execution_count": 27,
   "metadata": {},
   "outputs": [
    {
     "name": "stdout",
     "output_type": "stream",
     "text": [
      "4.0\n",
      "6.0\n",
      "0.0\n"
     ]
    }
   ],
   "source": [
    "# Popular Song Pairs\n",
    "def num_popular_pairs(popularity_scores):\n",
    "    # count reocuurances\n",
    "    # for each occurance (n x n-1)/2\n",
    "    dict = {}\n",
    "    for num in popularity_scores:\n",
    "        if num in dict:\n",
    "            dict[num] += 1\n",
    "        else:\n",
    "            dict[num] = 1\n",
    "    sum = 0\n",
    "    for num in dict:\n",
    "        current = dict[num]\n",
    "        sum += (current * (current-1))/2\n",
    "    return sum\n",
    "\n",
    "popularity_scores1 = [1, 2, 3, 1, 1, 3]\n",
    "popularity_scores2 = [1, 1, 1, 1]\n",
    "popularity_scores3 = [1, 2, 3]\n",
    "\n",
    "print(num_popular_pairs(popularity_scores1))\n",
    "print(num_popular_pairs(popularity_scores2))\n",
    "print(num_popular_pairs(popularity_scores3))"
   ]
  },
  {
   "cell_type": "code",
   "execution_count": 28,
   "metadata": {},
   "outputs": [
    {
     "name": "stdout",
     "output_type": "stream",
     "text": [
      "2\n",
      "12\n"
     ]
    }
   ],
   "source": [
    "# Stage Arrangement Difference Between Two Performances\n",
    "def find_stage_arrangement_difference(s, t):\n",
    "    \"\"\"\n",
    "    :type s: List[str]\n",
    "    :type t: List[str]\n",
    "    :rtype: int\n",
    "    \"\"\"\n",
    "    difference = {}\n",
    "    for i in range(len(s)):\n",
    "        difference[s[i]] = i\n",
    "    \n",
    "    result = 0\n",
    "    for i in range(len(t)):\n",
    "        result += abs(difference[t[i]] - i)\n",
    "    return result\n",
    "\n",
    "s1 = [\"Alice\", \"Bob\", \"Charlie\"]\n",
    "t1 = [\"Bob\", \"Alice\", \"Charlie\"]\n",
    "s2 = [\"Alice\", \"Bob\", \"Charlie\", \"David\", \"Eve\"]\n",
    "t2 = [\"Eve\", \"David\", \"Bob\", \"Alice\", \"Charlie\"]\n",
    "\n",
    "print(find_stage_arrangement_difference(s1, t1))\n",
    "print(find_stage_arrangement_difference(s2, t2))"
   ]
  },
  {
   "cell_type": "code",
   "execution_count": 29,
   "metadata": {},
   "outputs": [
    {
     "name": "stdout",
     "output_type": "stream",
     "text": [
      "3\n",
      "0\n"
     ]
    }
   ],
   "source": [
    "# VIP Passes and Guests\n",
    "def num_VIP_guests(vip_passes, guests):\n",
    "    # 1. Create an empty set called vip_set.\n",
    "    vip_set = set()\n",
    "    # 2. For each character in vip_passes, add it to vip_set.\n",
    "    for c in vip_passes:\n",
    "        vip_set.add(c)\n",
    "    # 3. Initialize a counter variable to 0.\n",
    "    counter = 0\n",
    "    # 4. For each character in guests:\n",
    "    #    * If the character is in vip_set, increment the count by 1.\n",
    "    for c in guests:\n",
    "        if c in vip_set:\n",
    "            counter += 1\n",
    "    # 5. Return the count.\n",
    "    return counter\n",
    "\n",
    "vip_passes1 = \"aA\"\n",
    "guests1 = \"aAAbbbb\"\n",
    "\n",
    "vip_passes2 = \"z\"\n",
    "guests2 = \"ZZ\"\n",
    "\n",
    "print(num_VIP_guests(vip_passes1, guests1))\n",
    "print(num_VIP_guests(vip_passes2, guests2))"
   ]
  },
  {
   "cell_type": "code",
   "execution_count": 33,
   "metadata": {},
   "outputs": [
    {
     "name": "stdout",
     "output_type": "stream",
     "text": [
      "True\n",
      "False\n",
      "False\n"
     ]
    }
   ],
   "source": [
    "# Perform Schedule Pattern\n",
    "def schedule_pattern(pattern, schedule):\n",
    "    \n",
    "    genres = schedule.split()\n",
    "\n",
    "    if len(genres) != len(pattern):\n",
    "        return False\n",
    "\n",
    "    char_to_genre = {}\n",
    "    genre_to_char = {}\n",
    "\n",
    "    for char, genre in zip(pattern, genres):\n",
    "        if char in char_to_genre:\n",
    "            if char_to_genre[char] == genre:\n",
    "                continue\n",
    "            else:\n",
    "                return False\n",
    "        else:\n",
    "            char_to_genre[char] = genre\n",
    "    return True\n",
    "\n",
    "pattern1 = \"abba\"\n",
    "schedule1 = \"rock jazz jazz rock\"\n",
    "\n",
    "pattern2 = \"abba\"\n",
    "schedule2 = \"rock jazz jazz blues\"\n",
    "\n",
    "pattern3 = \"aaaa\"\n",
    "schedule3 = \"rock jazz jazz rock\"\n",
    "\n",
    "print(schedule_pattern(pattern1, schedule1))\n",
    "print(schedule_pattern(pattern2, schedule2))\n",
    "print(schedule_pattern(pattern3, schedule3))"
   ]
  },
  {
   "cell_type": "code",
   "execution_count": 35,
   "metadata": {},
   "outputs": [
    {
     "name": "stdout",
     "output_type": "stream",
     "text": [
      "['Mary', 'Emma', 'John']\n",
      "['Bob', 'Alice', 'Bob']\n"
     ]
    }
   ],
   "source": [
    "# Sort the Performers\n",
    "def sort_performers(performer_names, performance_times):\n",
    "    \"\"\"\n",
    "    :type performer_names: List[str]\n",
    "    :type performance_times: List[int]\n",
    "    :rtype: List[str]\n",
    "    \"\"\"\n",
    "    # Combine performer names and performance times into tuples\n",
    "    combined = list(zip(performer_names, performance_times))\n",
    "    \n",
    "    # Sort by performance time in descending order\n",
    "    sorted_combined = sorted(combined, key=lambda x: x[1], reverse=True)\n",
    "    \n",
    "    # Extract the sorted performer names\n",
    "    sorted_names = [name for name, _ in sorted_combined]\n",
    "    \n",
    "    return sorted_names\n",
    "\n",
    "performer_names1 = [\"Mary\", \"John\", \"Emma\"]\n",
    "performance_times1 = [180, 165, 170]\n",
    "\n",
    "performer_names2 = [\"Alice\", \"Bob\", \"Bob\"]\n",
    "performance_times2 = [155, 185, 150]\n",
    "\n",
    "print(sort_performers(performer_names1, performance_times1))\n",
    "print(sort_performers(performer_names2, performance_times2))\n",
    "\n"
   ]
  }
 ],
 "metadata": {
  "kernelspec": {
   "display_name": "Python 3",
   "language": "python",
   "name": "python3"
  },
  "language_info": {
   "codemirror_mode": {
    "name": "ipython",
    "version": 3
   },
   "file_extension": ".py",
   "mimetype": "text/x-python",
   "name": "python",
   "nbconvert_exporter": "python",
   "pygments_lexer": "ipython3",
   "version": "3.13.2"
  }
 },
 "nbformat": 4,
 "nbformat_minor": 2
}
