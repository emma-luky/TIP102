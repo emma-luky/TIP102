{
 "cells": [
  {
   "cell_type": "code",
   "execution_count": null,
   "metadata": {},
   "outputs": [
    {
     "name": "stdout",
     "output_type": "stream",
     "text": [
      "120\n"
     ]
    }
   ],
   "source": [
    "# Recursive Example: Factorial\n",
    "def factorial(n):\n",
    "    if n == 0 or n == 1:\n",
    "        return 1\n",
    "    else:\n",
    "        return n * factorial(n - 1)\n",
    "    \n",
    "print(factorial(5))  # Output: 120"
   ]
  },
  {
   "cell_type": "code",
   "execution_count": 22,
   "metadata": {},
   "outputs": [
    {
     "name": "stdout",
     "output_type": "stream",
     "text": [
      "4\n",
      "4\n"
     ]
    }
   ],
   "source": [
    "# Recursive Example: Binary Search\n",
    "def binary_search(nums, target):\n",
    "    low = 0\n",
    "    high = len(nums) - 1\n",
    "    return helper(nums, low, high, target)\n",
    "    \n",
    "def helper(nums, low, high, target):\n",
    "    if low > high:\n",
    "        return -1\n",
    "    mid = (low + high)//2\n",
    "    if nums[mid] == target:\n",
    "        return mid\n",
    "    elif nums[mid] > target:\n",
    "        return helper(nums, low, mid-1, target)\n",
    "    else:\n",
    "        return helper(nums, mid+1, high, target)\n",
    "    \n",
    "print(binary_search([-1, 0, 3, 5, 9 , 12], 9))\n",
    "    \n",
    "def iterative_binary_search(nums, target):\n",
    "    low = 0\n",
    "    high = len(nums) - 1\n",
    "\n",
    "    while(low < high):\n",
    "        mid = (low + high)//2\n",
    "        if nums[mid] == target:\n",
    "            return mid\n",
    "        elif nums[mid] > target:\n",
    "            high = mid -1\n",
    "        else:\n",
    "            low = mid + 1\n",
    "    return -1\n",
    "\n",
    "print(iterative_binary_search([-1, 0, 3, 5, 9 , 12], 9))"
   ]
  },
  {
   "cell_type": "code",
   "execution_count": 5,
   "metadata": {},
   "outputs": [
    {
     "name": "stdout",
     "output_type": "stream",
     "text": [
      "3\n",
      "4\n"
     ]
    }
   ],
   "source": [
    "def count_suits_iterative(suits):\n",
    "    # loop through the suits and add to count\n",
    "    count = 0\n",
    "    for suit in suits:\n",
    "        count += 1\n",
    "    return count\n",
    "\n",
    "def count_suits_recursive(suits):\n",
    "    if not suits:\n",
    "        return 0\n",
    "    return 1 + count_suits_recursive(suits[1:])\n",
    "\n",
    "print(count_suits_iterative([\"Mark I\", \"Mark II\", \"Mark III\"]))\n",
    "print(count_suits_recursive([\"Mark I\", \"Mark I\", \"Mark III\", \"Mark IV\"]))"
   ]
  },
  {
   "cell_type": "code",
   "execution_count": 6,
   "metadata": {},
   "outputs": [
    {
     "name": "stdout",
     "output_type": "stream",
     "text": [
      "105\n",
      "68\n"
     ]
    }
   ],
   "source": [
    "def sum_stones(stones):\n",
    "    if not stones:\n",
    "        return 0\n",
    "    return stones[0] + sum_stones(stones[1:])\n",
    "\n",
    "print(sum_stones([5, 10, 15, 20, 25, 30]))\n",
    "print(sum_stones([12, 8, 22, 16, 10]))"
   ]
  },
  {
   "cell_type": "code",
   "execution_count": null,
   "metadata": {},
   "outputs": [
    {
     "name": "stdout",
     "output_type": "stream",
     "text": [
      "3\n",
      "2\n"
     ]
    }
   ],
   "source": [
    "def count_suits_iterative(suits):\n",
    "    # set for all suits\n",
    "    # count unique\n",
    "    # loop though suits\n",
    "    unique = set()\n",
    "    for suit in suits:\n",
    "        if suit not in unique:\n",
    "            unique.add(suit)\n",
    "    return len(unique)\n",
    "\n",
    "def count_suits_recursive(suits):\n",
    "    if not suits:\n",
    "        return 0\n",
    "    if suits[0] in suits[1:]:\n",
    "        return count_suits_recursive(suits[1:])\n",
    "    else:\n",
    "        return 1 + count_suits_recursive(suits[1:])\n",
    "    \n",
    "\n",
    "print(count_suits_iterative([\"Mark I\", \"Mark II\", \"Mark III\"]))\n",
    "print(count_suits_recursive([\"Mark I\", \"Mark I\", \"Mark III\"]))"
   ]
  },
  {
   "cell_type": "code",
   "execution_count": null,
   "metadata": {},
   "outputs": [
    {
     "name": "stdout",
     "output_type": "stream",
     "text": [
      "5\n",
      "21\n"
     ]
    }
   ],
   "source": [
    "def fibonacci_growth(n):\n",
    "    if n == 0:\n",
    "        return 0\n",
    "    elif n == 1:\n",
    "        return 1\n",
    "    return fibonacci_growth(n-1) + fibonacci_growth(n-2)\n",
    "\n",
    "print(fibonacci_growth(5))\n",
    "print(fibonacci_growth(8))"
   ]
  },
  {
   "cell_type": "code",
   "execution_count": 12,
   "metadata": {},
   "outputs": [
    {
     "name": "stdout",
     "output_type": "stream",
     "text": [
      "16\n",
      "0.0625\n"
     ]
    }
   ],
   "source": [
    "def power_of_four(n):\n",
    "    if n == 0:\n",
    "        return 1\n",
    "    if n > 0:\n",
    "        return 4 * power_of_four(n-1)\n",
    "    else:\n",
    "        return .25 * power_of_four(n+1)\n",
    "    \n",
    "print(power_of_four(2))\n",
    "print(power_of_four(-2))"
   ]
  },
  {
   "cell_type": "code",
   "execution_count": 14,
   "metadata": {},
   "outputs": [
    {
     "name": "stdout",
     "output_type": "stream",
     "text": [
      "100\n",
      "90\n"
     ]
    }
   ],
   "source": [
    "def strongest_avenger(strengths):\n",
    "    if not strengths:\n",
    "        return 0\n",
    "    # max = strengths[0]\n",
    "    # for i in strengths[1:]:\n",
    "    #     if strengths[i] > max:\n",
    "    #         return strongest_avenger(strengths[i:])\n",
    "    max = strongest_avenger(strengths[1:])\n",
    "    if strengths[0] > max:\n",
    "        return strengths[0]\n",
    "    # else:\n",
    "    return max\n",
    "\n",
    "print(strongest_avenger([88, 92, 95, 99, 97, 100, 94]))\n",
    "print(strongest_avenger([50, 75, 85, 60, 90]))"
   ]
  },
  {
   "cell_type": "code",
   "execution_count": 16,
   "metadata": {},
   "outputs": [
    {
     "name": "stdout",
     "output_type": "stream",
     "text": [
      "5\n",
      "2\n"
     ]
    }
   ],
   "source": [
    "def count_deposits(resources):\n",
    "    if not resources:\n",
    "        return 0\n",
    "    if resources[0] == 'V':\n",
    "        return 1 + count_deposits(resources[1:])\n",
    "    return count_deposits(resources[1:])\n",
    "\n",
    "print(count_deposits(\"VVVVV\"))\n",
    "print(count_deposits(\"VXVYGA\"))"
   ]
  },
  {
   "cell_type": "code",
   "execution_count": 21,
   "metadata": {},
   "outputs": [
    {
     "name": "stdout",
     "output_type": "stream",
     "text": [
      "1 -> 1 -> 2 -> 3 -> 4 -> 4\n"
     ]
    }
   ],
   "source": [
    "class Node:\n",
    "    def __init__(self, value, next=None):\n",
    "        self.value = value\n",
    "        self.next = next\n",
    "\n",
    "# Helper function to print the linked list\n",
    "def print_linked_list(head):\n",
    "    current = head\n",
    "    while current:\n",
    "        print(current.value, end=\" -> \" if current.next else \"\\n\")\n",
    "        current = current.next\n",
    "\n",
    "def merge_missions(mission1, mission2):\n",
    "    if not mission1:\n",
    "        return mission2\n",
    "    if not mission2:\n",
    "        return mission1\n",
    "\n",
    "    if mission1.value <= mission2.value:\n",
    "        mission1.next = merge_missions(mission1.next, mission2)\n",
    "        return mission1\n",
    "    else:\n",
    "        mission2.next = merge_missions(mission1, mission2.next)\n",
    "        return mission2\n",
    "\n",
    "# Test cases\n",
    "mission1 = Node(1, Node(2, Node(4)))\n",
    "mission2 = Node(1, Node(3, Node(4)))\n",
    "\n",
    "merged_head = merge_missions(mission1, mission2)\n",
    "print_linked_list(merged_head)"
   ]
  }
 ],
 "metadata": {
  "kernelspec": {
   "display_name": "Python 3",
   "language": "python",
   "name": "python3"
  },
  "language_info": {
   "codemirror_mode": {
    "name": "ipython",
    "version": 3
   },
   "file_extension": ".py",
   "mimetype": "text/x-python",
   "name": "python",
   "nbconvert_exporter": "python",
   "pygments_lexer": "ipython3",
   "version": "3.13.2"
  }
 },
 "nbformat": 4,
 "nbformat_minor": 2
}
