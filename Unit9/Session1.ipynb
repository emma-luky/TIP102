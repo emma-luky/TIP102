{
 "cells": [
  {
   "cell_type": "code",
   "execution_count": 8,
   "id": "ce732de2",
   "metadata": {},
   "outputs": [
    {
     "name": "stdout",
     "output_type": "stream",
     "text": [
      "[3, 4, 5, 5, 4, None, 7]\n"
     ]
    }
   ],
   "source": [
    "from collections import deque\n",
    "\n",
    "def print_tree(root):\n",
    "    if not root:\n",
    "        return \"Empty\"\n",
    "    result = []\n",
    "    queue = deque([root])\n",
    "    while queue:\n",
    "        node = queue.popleft()\n",
    "        if node:\n",
    "            result.append(node.val)\n",
    "            queue.append(node.left)\n",
    "            queue.append(node.right)\n",
    "        else:\n",
    "            result.append(None)\n",
    "    while result and result[-1] is None:\n",
    "        result.pop()\n",
    "    print(result)\n",
    "\n",
    "def build_tree(values):\n",
    "  if not values:\n",
    "      return None\n",
    "\n",
    "  def get_key_value(item):\n",
    "      if isinstance(item, tuple):\n",
    "          return item[0], item[1]\n",
    "      else:\n",
    "          return None, item\n",
    "\n",
    "  key, value = get_key_value(values[0])\n",
    "  root = TreeNode(value, key)\n",
    "  queue = deque([root])\n",
    "  index = 1\n",
    "\n",
    "  while queue:\n",
    "      node = queue.popleft()\n",
    "      if index < len(values) and values[index] is not None:\n",
    "          left_key, left_value = get_key_value(values[index])\n",
    "          node.left = TreeNode(left_value, left_key)\n",
    "          queue.append(node.left)\n",
    "      index += 1\n",
    "      if index < len(values) and values[index] is not None:\n",
    "          right_key, right_value = get_key_value(values[index])\n",
    "          node.right = TreeNode(right_value, right_key)\n",
    "          queue.append(node.right)\n",
    "      index += 1\n",
    "\n",
    "  return root\n",
    "\n",
    "class TreeNode():\n",
    "     def __init__(self, quantity, left=None, right=None):\n",
    "        self.val = quantity\n",
    "        self.left = left\n",
    "        self.right = right\n",
    "\n",
    "def merge_orders(order1, order2):\n",
    "    # use level order traversal to merge two binary trees\n",
    "    if not order1:\n",
    "        return order2\n",
    "    if not order2:\n",
    "        return order1\n",
    "    return recursive(order1, order2)\n",
    "\n",
    "def recursive(node1, node2):\n",
    "    node1.val += node2.val\n",
    "    node1.left = merge_orders(node1.left, node2.left)\n",
    "    node1.right = merge_orders(node1.right, node2.right)\n",
    "    return node1\n",
    "\n",
    "# Using build_tree() function included at top of page\n",
    "cookies1 = [1, 3, 2, 5]\n",
    "cookies2 = [2, 1, 3, None, 4, None, 7]\n",
    "order1 = build_tree(cookies1)\n",
    "order2 = build_tree(cookies2)\n",
    "\n",
    "# Using print_tree() function included at top of page\n",
    "print_tree(merge_orders(order1, order2))"
   ]
  },
  {
   "cell_type": "code",
   "execution_count": 14,
   "id": "260c9b47",
   "metadata": {},
   "outputs": [
    {
     "data": {
      "text/plain": [
       "['Vanilla', 'Chocolate', 'Strawberry', 'Vanilla', 'Matcha']"
      ]
     },
     "execution_count": 14,
     "metadata": {},
     "output_type": "execute_result"
    }
   ],
   "source": [
    "class Puff():\n",
    "     def __init__(self, flavor, left=None, right=None):\n",
    "        self.val = flavor\n",
    "        self.left = left\n",
    "        self.right = right\n",
    "\n",
    "def print_design(design):\n",
    "    if not design:\n",
    "        return []\n",
    "    q = deque()\n",
    "    q.append(design)\n",
    "    flavors = []\n",
    "    while q:\n",
    "        current = q.popleft()\n",
    "        flavors.append(current.val)\n",
    "        if current.left:\n",
    "            q.append(current.left)\n",
    "        if current.right:\n",
    "            q.append(current.right)\n",
    "    return flavors\n",
    "    # print(flavors)\n",
    "\n",
    "\n",
    "croquembouche = Puff(\"Vanilla\", \n",
    "                    Puff(\"Chocolate\", Puff(\"Vanilla\"), Puff(\"Matcha\")), \n",
    "                    Puff(\"Strawberry\"))\n",
    "print_design(croquembouche)"
   ]
  },
  {
   "cell_type": "code",
   "execution_count": 16,
   "id": "d1ab3f2e",
   "metadata": {},
   "outputs": [
    {
     "name": "stdout",
     "output_type": "stream",
     "text": [
      "3\n"
     ]
    }
   ],
   "source": [
    "class TreeNode():\n",
    "     def __init__(self, value, left=None, right=None):\n",
    "        self.val = value\n",
    "        self.left = left\n",
    "        self.right = right\n",
    "\n",
    "def max_tiers(cake):\n",
    "    # findingthe height of the tree/cake\n",
    "    # use inorder\n",
    "    if cake:\n",
    "        l = max_tiers(cake.left)\n",
    "        r = max_tiers(cake.right)\n",
    "        height = max(l,r)\n",
    "        return height + 1\n",
    "    else:\n",
    "        return 0\n",
    "\n",
    "cake_sections = [\"Chocolate\", \"Vanilla\", \"Strawberry\", None, None, \"Chocolate\", \"Coffee\"]\n",
    "cake = build_tree(cake_sections)\n",
    "\n",
    "print(max_tiers(cake))"
   ]
  },
  {
   "cell_type": "code",
   "execution_count": null,
   "id": "1fa72ed7",
   "metadata": {},
   "outputs": [
    {
     "name": "stdout",
     "output_type": "stream",
     "text": [
      "3\n"
     ]
    }
   ],
   "source": [
    "class TreeNode():\n",
    "     def __init__(self, value, left=None, right=None):\n",
    "        self.val = value\n",
    "        self.left = left\n",
    "        self.right = right\n",
    "\n",
    "def max_tiers(cake):\n",
    "    if not cake:\n",
    "        return 0\n",
    "    q = deque()\n",
    "    q.append(cake)\n",
    "    height = 0\n",
    "    while q:\n",
    "        level_size = len(q)\n",
    "        for _ in range(level_size):\n",
    "            current = q.popleft()\n",
    "            if current.left:\n",
    "                q.append(current.left)\n",
    "            if current.right:\n",
    "                q.append(current.right)\n",
    "        height += 1  # increase height after each level\n",
    "    return height\n",
    "\n",
    "cake_sections = [\"Chocolate\", \"Vanilla\", \"Strawberry\", None, None, \"Chocolate\", \"Coffee\"]\n",
    "cake = build_tree(cake_sections)\n",
    "\n",
    "print(max_tiers(cake))"
   ]
  }
 ],
 "metadata": {
  "kernelspec": {
   "display_name": "Python 3",
   "language": "python",
   "name": "python3"
  },
  "language_info": {
   "codemirror_mode": {
    "name": "ipython",
    "version": 3
   },
   "file_extension": ".py",
   "mimetype": "text/x-python",
   "name": "python",
   "nbconvert_exporter": "python",
   "pygments_lexer": "ipython3",
   "version": "3.13.3"
  }
 },
 "nbformat": 4,
 "nbformat_minor": 5
}
