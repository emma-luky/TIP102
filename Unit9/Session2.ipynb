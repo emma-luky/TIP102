{
 "cells": [
  {
   "cell_type": "code",
   "execution_count": 1,
   "id": "e044cf0b",
   "metadata": {},
   "outputs": [],
   "source": [
    "from collections import deque\n",
    "\n",
    "class TreeNode():\n",
    "     def __init__(self, value, left=None, right=None):\n",
    "        self.val = value\n",
    "        self.left = left\n",
    "        self.right = right\n",
    "\n",
    "def build_tree(values):\n",
    "  if not values:\n",
    "      return None\n",
    "\n",
    "  def get_key_value(item):\n",
    "      if isinstance(item, tuple):\n",
    "          return item[0], item[1]\n",
    "      else:\n",
    "          return None, item\n",
    "\n",
    "  key, value = get_key_value(values[0])\n",
    "  root = TreeNode(value, key)\n",
    "  queue = deque([root])\n",
    "  index = 1\n",
    "\n",
    "  while queue:\n",
    "      node = queue.popleft()\n",
    "      if index < len(values) and values[index] is not None:\n",
    "          left_key, left_value = get_key_value(values[index])\n",
    "          node.left = TreeNode(left_value, left_key)\n",
    "          queue.append(node.left)\n",
    "      index += 1\n",
    "      if index < len(values) and values[index] is not None:\n",
    "          right_key, right_value = get_key_value(values[index])\n",
    "          node.right = TreeNode(right_value, right_key)\n",
    "          queue.append(node.right)\n",
    "      index += 1\n",
    "\n",
    "  return root\n",
    "\n",
    "cookies1 = [1, 3, 2, 5]\n",
    "cookies2 = [2, 1, 3, None, 4, None, 7]\n",
    "order1 = build_tree(cookies1)\n",
    "order2 = build_tree(cookies2)"
   ]
  },
  {
   "cell_type": "code",
   "execution_count": 8,
   "id": "94ead042",
   "metadata": {},
   "outputs": [
    {
     "name": "stdout",
     "output_type": "stream",
     "text": [
      "[[1, 2]]\n"
     ]
    }
   ],
   "source": [
    "def recursive(node, currentPath, currentSum, target, result):\n",
    "    if node is None:\n",
    "        return\n",
    "\n",
    "    currentPath.append(node.val)\n",
    "    currentSum += node.val\n",
    "\n",
    "    if node.left is None and node.right is None and currentSum == target:\n",
    "        result.append(list(currentPath))\n",
    "\n",
    "    recursive(node.left, currentPath, currentSum, target, result)\n",
    "    recursive(node.right, currentPath, currentSum, target, result)\n",
    "\n",
    "    # Backtrack\n",
    "    currentPath.pop()\n",
    "\n",
    "def targetSum(root, target):\n",
    "    result = []\n",
    "    recursive(root, [], 0, target, result)\n",
    "    return result\n",
    "\n",
    "print(targetSum(order1, 3))"
   ]
  },
  {
   "cell_type": "code",
   "execution_count": 3,
   "id": "998a0751",
   "metadata": {},
   "outputs": [
    {
     "name": "stdout",
     "output_type": "stream",
     "text": [
      "True\n",
      "False\n"
     ]
    }
   ],
   "source": [
    "def recursive(node):\n",
    "    # # if subtree is empty retur 0\n",
    "    # if display is None:\n",
    "    #     difference += 1\n",
    "    # else:\n",
    "    #      # left subtree is balanced or not\n",
    "    #     recursive(display.left, difference)\n",
    "    #     # right subtree is balance or not\n",
    "    #     recursive(display.right, difference)\n",
    "    # if difference > 1:\n",
    "    #     return False\n",
    "    # # chekc if subtree of current node is balanced\n",
    "    # # return leftbalance and rightbalanced\n",
    "    # return True\n",
    "    if node is None:\n",
    "        return 0, True  # height = 0, isBalanced = True\n",
    "\n",
    "    left_height, left_balanced = recursive(node.left)\n",
    "    right_height, right_balanced = recursive(node.right)\n",
    "\n",
    "    current_height = 1 + max(left_height, right_height)\n",
    "    is_balanced = (\n",
    "        left_balanced and \n",
    "        right_balanced and \n",
    "        abs(left_height - right_height) <= 1\n",
    "    )\n",
    "\n",
    "    return current_height, is_balanced\n",
    "\n",
    "def is_balanced(display):\n",
    "    _, balanced = recursive(display)\n",
    "    return balanced\n",
    "\n",
    "\n",
    "baked_goods = [\"🎂\", \"🥮\", \"🍩\", \"🥖\", \"🧁\"]\n",
    "display1 = build_tree(baked_goods)\n",
    "\n",
    "\n",
    "baked_goods = [\"🥖\", \"🧁\", \"🧁\", \"🍪\", None, None, \"🍪\", \"🥐\", None, None, \"🥐\"]\n",
    "display2 = build_tree(baked_goods)\n",
    "\n",
    "\n",
    "print(is_balanced(display1)) \n",
    "print(is_balanced(display2))  "
   ]
  }
 ],
 "metadata": {
  "kernelspec": {
   "display_name": "Python 3",
   "language": "python",
   "name": "python3"
  },
  "language_info": {
   "codemirror_mode": {
    "name": "ipython",
    "version": 3
   },
   "file_extension": ".py",
   "mimetype": "text/x-python",
   "name": "python",
   "nbconvert_exporter": "python",
   "pygments_lexer": "ipython3",
   "version": "3.13.3"
  }
 },
 "nbformat": 4,
 "nbformat_minor": 5
}
