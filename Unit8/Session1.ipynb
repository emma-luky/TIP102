{
 "cells": [
  {
   "cell_type": "code",
   "execution_count": null,
   "id": "cf267337",
   "metadata": {},
   "outputs": [],
   "source": [
    "# class example: delete node from bst\n",
    "# case 1 - key is not in the binary tree, dont delete anything, return root\n",
    "# case 2 - node is a leaf node, set node to null\n",
    "# case 4 - node has one child, swap with its singular child and delete the node\n",
    "# case 5 - node has two children, swap with the lowest value from the right side or biggest from the left side"
   ]
  },
  {
   "cell_type": "code",
   "execution_count": 1,
   "id": "bf9e0dcc",
   "metadata": {},
   "outputs": [
    {
     "name": "stdout",
     "output_type": "stream",
     "text": [
      "['Trunk', 'Mcintosh', 'GrannySmith', 'Fuji', 'Opal', 'Crab', 'Gala']\n"
     ]
    }
   ],
   "source": [
    "from collections import deque \n",
    "\n",
    "# Tree Node class\n",
    "class TreeNode:\n",
    "    def __init__(self, value, left=None, right=None):\n",
    "        self.val = value\n",
    "        self.left = left\n",
    "        self.right = right\n",
    "\n",
    "def print_tree(root):\n",
    "    if not root:\n",
    "        return \"Empty\"\n",
    "    result = []\n",
    "    queue = deque([root])\n",
    "    while queue:\n",
    "        node = queue.popleft()\n",
    "        if node:\n",
    "            result.append(node.val)\n",
    "            queue.append(node.left)\n",
    "            queue.append(node.right)\n",
    "        else:\n",
    "            result.append(None)\n",
    "    while result and result[-1] is None:\n",
    "        result.pop()\n",
    "    print(result)\n",
    "\n",
    "root = TreeNode(\"Trunk\")\n",
    "root.left = TreeNode(\"Mcintosh\", TreeNode(\"Fuji\"), TreeNode(\"Opal\"))\n",
    "root.right = TreeNode(\"GrannySmith\", TreeNode(\"Crab\"), TreeNode(\"Gala\"))\n",
    "\n",
    "# Using print_tree() included at the top of this page\n",
    "print_tree(root)"
   ]
  },
  {
   "cell_type": "code",
   "execution_count": 3,
   "id": "fd9dcfa9",
   "metadata": {},
   "outputs": [
    {
     "name": "stdout",
     "output_type": "stream",
     "text": [
      "12\n"
     ]
    }
   ],
   "source": [
    "class TreeNode:\n",
    "    def __init__(self, value, left=None, right=None):\n",
    "        self.val = value\n",
    "        self.left = left\n",
    "        self.right = right\n",
    "\n",
    "def calculate_yield(root):\n",
    "    left = root.left.val\n",
    "    right = root.right.val\n",
    "    if root.val == '+':\n",
    "        return left + right\n",
    "    elif root.val == '-':\n",
    "        return left - right\n",
    "    elif root.val == '*':\n",
    "        return left * right\n",
    "    else:\n",
    "        return left // right\n",
    "\n",
    "\"\"\"\n",
    "    +\n",
    "  /   \\\n",
    " 7     5\n",
    "\"\"\"\n",
    "apple_tree = TreeNode(\"+\", TreeNode(7), TreeNode(5))\n",
    "\n",
    "print(calculate_yield(apple_tree))"
   ]
  },
  {
   "cell_type": "code",
   "execution_count": 4,
   "id": "6a7283c4",
   "metadata": {},
   "outputs": [
    {
     "name": "stdout",
     "output_type": "stream",
     "text": [
      "['Root', 'Node2', 'Leaf3']\n",
      "['Root']\n"
     ]
    }
   ],
   "source": [
    "class TreeNode:\n",
    "    def __init__(self, value, left=None, right=None):\n",
    "        self.val = value\n",
    "        self.left = left\n",
    "        self.right = right\n",
    "\n",
    "def right_vine(root):\n",
    "    current = root\n",
    "    right_vine = []\n",
    "    while current:\n",
    "        right_vine.append(current.val)\n",
    "        current = current.right \n",
    "    return right_vine\n",
    "\n",
    "\n",
    "ivy1 = TreeNode(\"Root\", \n",
    "                TreeNode(\"Node1\", TreeNode(\"Leaf1\")),\n",
    "                TreeNode(\"Node2\", TreeNode(\"Leaf2\"), TreeNode(\"Leaf3\")))\n",
    "\n",
    "ivy2 = TreeNode(\"Root\", TreeNode(\"Node1\", TreeNode(\"Leaf1\")))\n",
    "\n",
    "print(right_vine(ivy1))\n",
    "print(right_vine(ivy2))"
   ]
  },
  {
   "cell_type": "code",
   "execution_count": null,
   "id": "1135377c",
   "metadata": {},
   "outputs": [
    {
     "name": "stdout",
     "output_type": "stream",
     "text": [
      "['Root', 'Node2', 'Leaf3']\n",
      "['Root']\n"
     ]
    }
   ],
   "source": [
    "class TreeNode:\n",
    "    def __init__(self, value, left=None, right=None):\n",
    "        self.val = value\n",
    "        self.left = left\n",
    "        self.right = right\n",
    "\n",
    "# def right_vine(root):\n",
    "#     right_vine = []\n",
    "#     def recursive_helper(node, list):\n",
    "#         # if none\n",
    "#         if node is None:\n",
    "#             return list\n",
    "#         # else\n",
    "#         # list.append(vine.val))\n",
    "#         # call right vine with root.right\n",
    "#         list.append(node.val)\n",
    "#         recursive_helper(node.right, list)\n",
    "#     recursive_helper(root, right_vine)\n",
    "#     return right_vine\n",
    "\n",
    "def recursive_helper(node, list):\n",
    "    # if none\n",
    "    if node is None:\n",
    "        return list\n",
    "    # else\n",
    "    # list.append(vine.val))\n",
    "    # call right vine with root.right\n",
    "    list.append(node.val)\n",
    "    return recursive_helper(node.right, list)\n",
    "\n",
    "def right_vine(root):\n",
    "    right_vine = []\n",
    "    \n",
    "    recursive_helper(root, right_vine)\n",
    "    return right_vine\n",
    "\n",
    "ivy1 = TreeNode(\"Root\", \n",
    "                TreeNode(\"Node1\", TreeNode(\"Leaf1\")),\n",
    "                TreeNode(\"Node2\", TreeNode(\"Leaf2\"), TreeNode(\"Leaf3\")))\n",
    "\n",
    "ivy2 = TreeNode(\"Root\", TreeNode(\"Node1\", TreeNode(\"Leaf1\")))\n",
    "\n",
    "print(right_vine(ivy1))\n",
    "print(right_vine(ivy2))"
   ]
  },
  {
   "cell_type": "code",
   "execution_count": 20,
   "id": "b57503f5",
   "metadata": {},
   "outputs": [
    {
     "name": "stdout",
     "output_type": "stream",
     "text": [
      "3\n",
      "1\n"
     ]
    }
   ],
   "source": [
    "class TreeNode:\n",
    "    def __init__(self, value, left=None, right=None):\n",
    "        self.val = value\n",
    "        self.left = left\n",
    "        self.right = right\n",
    "\n",
    "def count_leaves(root):\n",
    "    if root is None:\n",
    "        return 0\n",
    "    if root.left is None and root.right is None:\n",
    "        return 1\n",
    "    if root.left is None:\n",
    "        return count_leaves(root.right)\n",
    "    if root.right is None:\n",
    "        return count_leaves(root.left)\n",
    "    return count_leaves(root.right) + count_leaves(root.left)\n",
    "    \n",
    "\n",
    "oak1 = TreeNode(\"Root\", \n",
    "                TreeNode(\"Node1\", TreeNode(\"Leaf1\")),\n",
    "                TreeNode(\"Node2\", TreeNode(\"Leaf2\"), TreeNode(\"Leaf3\")))\n",
    "oak2 = TreeNode(\"Root\", TreeNode(\"Node1\", TreeNode(\"Leaf1\")))\n",
    "\n",
    "\n",
    "print(count_leaves(oak1))\n",
    "print(count_leaves(oak2))"
   ]
  }
 ],
 "metadata": {
  "kernelspec": {
   "display_name": "Python 3",
   "language": "python",
   "name": "python3"
  },
  "language_info": {
   "codemirror_mode": {
    "name": "ipython",
    "version": 3
   },
   "file_extension": ".py",
   "mimetype": "text/x-python",
   "name": "python",
   "nbconvert_exporter": "python",
   "pygments_lexer": "ipython3",
   "version": "3.13.2"
  }
 },
 "nbformat": 4,
 "nbformat_minor": 5
}
