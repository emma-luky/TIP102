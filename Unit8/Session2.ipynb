{
 "cells": [
  {
   "cell_type": "code",
   "execution_count": null,
   "id": "43fc69d6",
   "metadata": {},
   "outputs": [],
   "source": [
    "# Mock interview problem: Balanced Binary Tree\n",
    "# usingour input array, we will start at teh root and we will iterate through the left and right subtrees\n",
    "# if we see that we have no left child and no reight child\n",
    "# we back track to the previous node\n",
    "# We will computer the height\n",
    "# compare the height of our two subtrees"
   ]
  },
  {
   "cell_type": "code",
   "execution_count": 1,
   "id": "9a3db2f9",
   "metadata": {},
   "outputs": [
    {
     "name": "stdout",
     "output_type": "stream",
     "text": [
      "3\n",
      "0\n"
     ]
    }
   ],
   "source": [
    "from collections import deque \n",
    "\n",
    "class TreeNode():\n",
    "     def __init__(self, value, left=None, right=None):\n",
    "         self.val = value\n",
    "         self.left = left\n",
    "         self.right = right\n",
    "\n",
    "def build_tree(values):\n",
    "  if not values:\n",
    "      return None\n",
    "\n",
    "  def get_key_value(item):\n",
    "      if isinstance(item, tuple):\n",
    "          return item[0], item[1]\n",
    "      else:\n",
    "          return None, item\n",
    "\n",
    "  key, value = get_key_value(values[0])\n",
    "  root = TreeNode(value, key)\n",
    "  queue = deque([root])\n",
    "  index = 1\n",
    "\n",
    "  while queue:\n",
    "      node = queue.popleft()\n",
    "      if index < len(values) and values[index] is not None:\n",
    "          left_key, left_value = get_key_value(values[index])\n",
    "          node.left = TreeNode(left_value, left_key)\n",
    "          queue.append(node.left)\n",
    "      index += 1\n",
    "      if index < len(values) and values[index] is not None:\n",
    "          right_key, right_value = get_key_value(values[index])\n",
    "          node.right = TreeNode(right_value, right_key)\n",
    "          queue.append(node.right)\n",
    "      index += 1\n",
    "\n",
    "  return root\n",
    "         \n",
    "def count_odd_splits(root):\n",
    "    # traversing the tree\n",
    "    # check the value, for every odd val add to the leaf count\n",
    "    if root is None:\n",
    "        return 0\n",
    "    if root.val % 2 != 0:\n",
    "        return 1 + count_odd_splits(root.left) + count_odd_splits(root.right)\n",
    "    return count_odd_splits(root.left) + count_odd_splits(root.right)\n",
    "    # if odd 1 + our recursive function\n",
    "\n",
    "# Using build_tree() function included at top of page\n",
    "values = [2, 3, 5, 6, 7, None, 12]\n",
    "monstera = build_tree(values)\n",
    "\n",
    "print(count_odd_splits(monstera))\n",
    "print(count_odd_splits(None))"
   ]
  },
  {
   "cell_type": "code",
   "execution_count": null,
   "id": "73eb877e",
   "metadata": {},
   "outputs": [
    {
     "name": "stdout",
     "output_type": "stream",
     "text": [
      "True\n",
      "False\n"
     ]
    }
   ],
   "source": [
    "class TreeNode():\n",
    "     def __init__(self, value, left=None, right=None):\n",
    "         self.val = value\n",
    "         self.left = left\n",
    "         self.right = right\n",
    "\n",
    "# time complexicity: O(logn)\n",
    "def find_flower(inventory, name):\n",
    "    # base: inventory is none\n",
    "    # traversing the tree\n",
    "    # #cehck if name matches\n",
    "    # # if target is less than name go left\n",
    "    # # else go right\n",
    "    if inventory is None:\n",
    "        return False\n",
    "    if inventory.val == name:\n",
    "        return True\n",
    "    elif inventory.val < name:\n",
    "        return find_flower(inventory.right, name)\n",
    "    else:\n",
    "        return find_flower(inventory.left, name)\n",
    "\n",
    "# using build_tree() function at top of page\n",
    "values = [\"Rose\", \"Lilac\", \"Tulip\", \"Daisy\", \"Lily\", None, \"Violet\"]\n",
    "garden = build_tree(values)\n",
    "\n",
    "print(find_flower(garden, \"Lilac\"))  \n",
    "print(find_flower(garden, \"Sunflower\")) "
   ]
  },
  {
   "cell_type": "code",
   "execution_count": 3,
   "id": "76c346d6",
   "metadata": {},
   "outputs": [
    {
     "name": "stdout",
     "output_type": "stream",
     "text": [
      "True\n",
      "False\n"
     ]
    }
   ],
   "source": [
    "class TreeNode:\n",
    "    def __init__(self, value, left=None, right=None):\n",
    "        self.val = value\n",
    "        self.left = left\n",
    "        self.right = right\n",
    "\n",
    "# time complexity : O(n)\n",
    "def non_bst_find_flower(root, name):\n",
    "    if root is None:\n",
    "        return False\n",
    "    \n",
    "    if root.val == name:\n",
    "        return True\n",
    "\n",
    "    return non_bst_find_flower(root.left, name) or non_bst_find_flower(root.right, name)\n",
    "\n",
    "\n",
    "# using build_tree() function at top of page\n",
    "values = [\"Rose\", \"Lily\", \"Tulip\", \"Daisy\", \"Lilac\", None, \"Violet\"]\n",
    "garden = build_tree(values)\n",
    "\n",
    "print(non_bst_find_flower(garden, \"Lilac\"))  \n",
    "print(non_bst_find_flower(garden, \"Sunflower\"))  "
   ]
  },
  {
   "cell_type": "code",
   "execution_count": 8,
   "id": "0771c584",
   "metadata": {},
   "outputs": [
    {
     "name": "stdout",
     "output_type": "stream",
     "text": [
      "['Money Tree', 'Fiddle Leaf Fig', 'Snake Plant', 'Aloe']\n",
      "['Money Tree', 'Fiddle Leaf Fig', 'Snake Plant', 'Aloe', None, 'Money Tree']\n"
     ]
    }
   ],
   "source": [
    "from collections import deque \n",
    "\n",
    "class TreeNode:\n",
    "    def __init__(self, value, left=None, right=None):\n",
    "        self.val = value\n",
    "        self.left = left\n",
    "        self.right = right\n",
    "\n",
    "def print_tree(root):\n",
    "    if not root:\n",
    "        return \"Empty\"\n",
    "    result = []\n",
    "    queue = deque([root])\n",
    "    while queue:\n",
    "        node = queue.popleft()\n",
    "        if node:\n",
    "            result.append(node.val)\n",
    "            queue.append(node.left)\n",
    "            queue.append(node.right)\n",
    "        else:\n",
    "            result.append(None)\n",
    "    while result and result[-1] is None:\n",
    "        result.pop()\n",
    "    print(result)\n",
    "\n",
    "\n",
    "def add_plant(collection, name):\n",
    "    # if not collection return Treenode(name)\n",
    "    # if collection has any children\n",
    "    if collection.val > name:\n",
    "        if collection.left:\n",
    "            return add_plant(collection.left, name)\n",
    "        else:\n",
    "            collection.left = TreeNode(name)\n",
    "            return\n",
    "    else:\n",
    "        if collection.right:\n",
    "            return add_plant(collection.right, name)\n",
    "        else:\n",
    "            collection.right = TreeNode(name)\n",
    "            return\n",
    "\n",
    "def driver(collection, name):\n",
    "    if collection is None:\n",
    "        return TreeNode(name)\n",
    "    add_plant(collection, name)\n",
    "    return collection\n",
    "\n",
    "# Using build_tree() function at the top of page\n",
    "values = [\"Money Tree\", \"Fiddle Leaf Fig\", \"Snake Plant\"]\n",
    "collection = build_tree(values)\n",
    "\n",
    "# Using print_tree() function at the top of page\n",
    "print_tree(driver(collection, \"Aloe\"))\n",
    "print_tree(driver(collection, \"Money Tree\"))"
   ]
  },
  {
   "cell_type": "code",
   "execution_count": 13,
   "id": "9644d167",
   "metadata": {},
   "outputs": [
    {
     "name": "stdout",
     "output_type": "stream",
     "text": [
      "[('Pothos', 1), ('Spider Plant', 2), ('Monstera', 3), ('Hoya Motoskei', 4), ('Witchcraft Orchid', 5)]\n"
     ]
    }
   ],
   "source": [
    "class TreeNode:\n",
    "    def __init__(self, key, value, left=None, right=None):\n",
    "        self.key = key      # Plant price\n",
    "        self.val = value      # Plant name\n",
    "        self.left = left\n",
    "        self.right = right\n",
    "\n",
    "\n",
    "def sort_plants(collection):\n",
    "    if collection is None:\n",
    "        return []\n",
    "    return recursive(collection, [])\n",
    "    \n",
    "def recursive(collection, list):\n",
    "    if collection is None:\n",
    "        return list\n",
    "    recursive(collection.left, list)\n",
    "    list.append((collection.key, collection.val))\n",
    "    recursive(collection.right, list)\n",
    "    return list\n",
    "\n",
    "\n",
    "# Using build_tree() function at the top of page\n",
    "values = [(3, \"Monstera\"), (1, \"Pothos\"), (5, \"Witchcraft Orchid\"), None, (2, \"Spider Plant\"), (4, \"Hoya Motoskei\")]\n",
    "collection = build_tree(values)\n",
    "\n",
    "print(sort_plants(collection))"
   ]
  },
  {
   "cell_type": "code",
   "execution_count": 26,
   "id": "3ee9b814",
   "metadata": {},
   "outputs": [
    {
     "name": "stdout",
     "output_type": "stream",
     "text": [
      "Pothos\n",
      "Aloe\n",
      "None\n"
     ]
    }
   ],
   "source": [
    "class TreeNode:\n",
    "    def __init__(self, key, val, left=None, right=None):\n",
    "        self.key = key      # Plant price\n",
    "        self.val = val      # Plant name\n",
    "        self.left = left\n",
    "        self.right = right\n",
    "\n",
    "def pick_plant(root, budget):\n",
    "    if root.val >= budget:\n",
    "        if root.left is None:\n",
    "            if root.val == budget:\n",
    "                return None\n",
    "            return root.key\n",
    "        return pick_plant(root.left, budget)\n",
    "    else:\n",
    "        if root.right is None:\n",
    "            if root.val == budget:\n",
    "                return None\n",
    "            return root.key\n",
    "        return pick_plant(root.right, budget)\n",
    "\n",
    "\n",
    "# Using build_tree() function at the top of page\n",
    "values = [(50, \"Fiddle Leaf Fig\"), (25, \"Monstera\"), (70, \"Snake Plant\"), (15, \"Aloe\"), \n",
    "            (40, \"Pothos\"), (60, \"Fern\"), (80, \"ZZ Plant\")]\n",
    "inventory = build_tree(values)\n",
    "\n",
    "print(pick_plant(inventory, 50)) \n",
    "print(pick_plant(inventory, 25)) \n",
    "print(pick_plant(inventory, 15)) "
   ]
  }
 ],
 "metadata": {
  "kernelspec": {
   "display_name": "Python 3",
   "language": "python",
   "name": "python3"
  },
  "language_info": {
   "codemirror_mode": {
    "name": "ipython",
    "version": 3
   },
   "file_extension": ".py",
   "mimetype": "text/x-python",
   "name": "python",
   "nbconvert_exporter": "python",
   "pygments_lexer": "ipython3",
   "version": "3.13.3"
  }
 },
 "nbformat": 4,
 "nbformat_minor": 5
}
