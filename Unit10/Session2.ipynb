{
 "cells": [
  {
   "cell_type": "code",
   "execution_count": null,
   "id": "eb941150",
   "metadata": {},
   "outputs": [
    {
     "name": "stdout",
     "output_type": "stream",
     "text": [
      "True\n",
      "False\n"
     ]
    }
   ],
   "source": [
    "def can_rebook(flights, source, dest):\n",
    "    # current = flights[i,j]?\n",
    "    # we can look for the next possible location using flights[current][neighbor] == 1 something like that\n",
    "    # if current == dest then its True\n",
    "    # then current has been seen/visited\n",
    "    # if we finish the loop and there is not destination then its false\n",
    "    visited = set()\n",
    "    #LIFO\n",
    "    stack = [source]\n",
    "    while stack:\n",
    "        # print(\"Stack:\", stack)\n",
    "        current = stack.pop()\n",
    "        if current == dest:\n",
    "            return True\n",
    "        visited.add(current)\n",
    "        # print(\"Visited\", visited)\n",
    "        for neighbor in range(len(flights[current])):\n",
    "            # print(\"Neighbor:\", neighbor)\n",
    "            if flights[current][neighbor] == 1 and neighbor not in visited:\n",
    "                stack.append(neighbor)\n",
    "    return False\n",
    "\n",
    "flights1 = [\n",
    "    [0, 1, 0], # Flight 0\n",
    "    [0, 0, 1], # Flight 1\n",
    "    [0, 0, 0]  # Flight 2\n",
    "]\n",
    "\n",
    "flights2 = [\n",
    "    [0, 1, 0, 1, 0], # Flight 0\n",
    "    [0, 0, 0, 1, 0], # Flight 1\n",
    "    [0, 0, 0, 0, 1], # Flight 2\n",
    "    [0, 0, 0, 0, 0], # Flight 3\n",
    "    [0, 0, 0, 0, 0]  # Flight 4\n",
    "]\n",
    "\n",
    "print(can_rebook(flights1, 0, 2))\n",
    "print(can_rebook(flights2, 0, 2)) "
   ]
  },
  {
   "cell_type": "code",
   "execution_count": null,
   "id": "c6b02257",
   "metadata": {},
   "outputs": [
    {
     "name": "stdout",
     "output_type": "stream",
     "text": [
      "True\n",
      "False\n"
     ]
    }
   ],
   "source": [
    "from collections import deque\n",
    "\n",
    "def can_rebook(flights, source, dest):\n",
    "    # using BFS to find if we can reach destination from source\n",
    "    can_rebooked = False\n",
    "    visited = set()\n",
    "    # FIFO\n",
    "    queue = deque()\n",
    "    queue.append(source)\n",
    "    while queue:\n",
    "        current = queue.popleft()\n",
    "        if current == dest:\n",
    "            can_rebooked = True\n",
    "            break\n",
    "        visited.add(current)\n",
    "        for neighbor in range(len(flights[current])):\n",
    "            if flights[current][neighbor] == 1 and neighbor not in visited:\n",
    "                queue.append(neighbor)\n",
    "    return can_rebooked\n",
    "\n",
    "flights1 = [\n",
    "    [0, 1, 0], # Flight 0\n",
    "    [0, 0, 1], # Flight 1\n",
    "    [0, 0, 0]  # Flight 2\n",
    "]\n",
    "\n",
    "flights2 = [\n",
    "    [0, 1, 0, 1, 0],\n",
    "    [0, 0, 0, 1, 0],\n",
    "    [0, 0, 0, 0, 1],\n",
    "    [0, 0, 0, 0, 0],\n",
    "    [0, 0, 0, 0, 0]\n",
    "]\n",
    "\n",
    "print(can_rebook(flights1, 0, 2))\n",
    "print(can_rebook(flights2, 0, 2))"
   ]
  },
  {
   "cell_type": "code",
   "execution_count": 4,
   "id": "507fe48e",
   "metadata": {},
   "outputs": [
    {
     "name": "stdout",
     "output_type": "stream",
     "text": [
      "1\n",
      "3\n",
      "-1\n"
     ]
    }
   ],
   "source": [
    "from collections import deque\n",
    "\n",
    "def counting_flights(flights, i, j):\n",
    "    # using BFS to find if we can reach destination from source\n",
    "    visited = set()\n",
    "    # FIFO\n",
    "    queue = deque()\n",
    "    queue.append((i, 0))\n",
    "    while queue:\n",
    "        current, depth = queue.popleft()\n",
    "        if current == j:\n",
    "            return depth\n",
    "        visited.add(current)\n",
    "        for neighbor in range(len(flights[current])):\n",
    "            if flights[current][neighbor] == 1 and neighbor not in visited:\n",
    "                queue.append((neighbor, depth + 1))\n",
    "    return -1\n",
    "\n",
    "# Example usage\n",
    "flights = [\n",
    "    [0, 1, 1, 0, 0], # Airport 0\n",
    "    [0, 0, 1, 0, 0], # Airport 1\n",
    "    [0, 0, 0, 1, 0], # Airport 2\n",
    "    [0, 0, 0, 0, 1], # Airport 3\n",
    "    [0, 0, 0, 0, 0]  # Airport 4\n",
    "]\n",
    "\n",
    "print(counting_flights(flights, 0, 2))  \n",
    "print(counting_flights(flights, 0, 4))\n",
    "print(counting_flights(flights, 4, 0))"
   ]
  }
 ],
 "metadata": {
  "kernelspec": {
   "display_name": "Python 3",
   "language": "python",
   "name": "python3"
  },
  "language_info": {
   "codemirror_mode": {
    "name": "ipython",
    "version": 3
   },
   "file_extension": ".py",
   "mimetype": "text/x-python",
   "name": "python",
   "nbconvert_exporter": "python",
   "pygments_lexer": "ipython3",
   "version": "3.13.3"
  }
 },
 "nbformat": 4,
 "nbformat_minor": 5
}
