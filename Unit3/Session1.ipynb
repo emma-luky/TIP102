{
 "cells": [
  {
   "cell_type": "code",
   "execution_count": null,
   "metadata": {},
   "outputs": [
    {
     "name": "stdout",
     "output_type": "stream",
     "text": [
      "True\n",
      "True\n",
      "False\n"
     ]
    }
   ],
   "source": [
    "# You are managing a social media platform and need to ensure that posts are properly formatted. Each post must have balanced and correctly nested tags, such as () for mentions, [] for hashtags, and {} for links. You are given a string representing a post's content, and your task is to determine if the tags in the post are correctly formatted.\n",
    "\n",
    "# A post is considered valid if:\n",
    "\n",
    "# Every opening tag has a corresponding closing tag of the same type.\n",
    "# Tags are closed in the correct order.\n",
    "def is_valid_post_format(posts):\n",
    "    if len(posts) % 2 != 0:\n",
    "        return False\n",
    "    if len(posts) == 0:\n",
    "        return True\n",
    "    \n",
    "    stack =[]\n",
    "    \n",
    "    for tag in posts:\n",
    "        if tag in '({[':\n",
    "            stack.append(tag)\n",
    "        else:\n",
    "            match tag:\n",
    "                case ')':\n",
    "                    if stack.pop() != '(':\n",
    "                        return False\n",
    "                case '}':\n",
    "                    if stack.pop() != '{':\n",
    "                        return False\n",
    "                case ']':\n",
    "                    if stack.pop() != '[':\n",
    "                        return False\n",
    "    if len(stack) > 0:\n",
    "        return False\n",
    "    return True\n",
    "\n",
    "print(is_valid_post_format(\"()\"))\n",
    "print(is_valid_post_format(\"()[]{}\")) \n",
    "print(is_valid_post_format(\"(]\"))\n"
   ]
  },
  {
   "cell_type": "code",
   "execution_count": null,
   "metadata": {},
   "outputs": [
    {
     "name": "stdout",
     "output_type": "stream",
     "text": [
      "['Thanks for sharing.', 'Love it!', 'Great post!']\n",
      "['Well written.', 'Interesting read.', 'First!']\n"
     ]
    }
   ],
   "source": [
    "# On your platform, comments on posts are displayed in the order\n",
    "# they are received. However, for a special feature, you need to\n",
    "# reverse the order of comments before displaying them. Given a\n",
    "# queue of comments represented as a list of strings, reverse the\n",
    "# order using a stack.\n",
    "from collections import deque\n",
    "\n",
    "def reverse_comments_queue(comments):\n",
    "    queue = deque(comments)\n",
    "    stack = []\n",
    "    while (len(queue) > 0):\n",
    "        stack.append(queue.popleft())\n",
    "    reversed = []\n",
    "    while (len(stack) > 0):\n",
    "        reversed.append(stack.pop())\n",
    "    return reversed\n",
    "\n",
    "print(reverse_comments_queue([\"Great post!\", \"Love it!\", \"Thanks for sharing.\"]))\n",
    "\n",
    "print(reverse_comments_queue([\"First!\", \"Interesting read.\", \"Well written.\"]))\n"
   ]
  },
  {
   "cell_type": "code",
   "execution_count": null,
   "metadata": {},
   "outputs": [
    {
     "name": "stdout",
     "output_type": "stream",
     "text": [
      "asantaatnasa\n",
      "True\n",
      "socialmedia\n",
      "False\n"
     ]
    }
   ],
   "source": [
    "# As part of a new feature on your social media platform,\n",
    "# you want to highlight post titles that are symmetrical,\n",
    "# meaning they read the same forwards and backwards when\n",
    "# ignoring spaces, punctuation, and case. Given a post title\n",
    "# as a string, use a new algorithmic technique the two-pointer\n",
    "# method to determine if the title is symmetrical.\n",
    "\n",
    "def is_symmetrical_title(title):\n",
    "    title_clean = title.lower().replace(' ', '')\n",
    "    left = 0\n",
    "    right = len(title_clean) - 1\n",
    "    while left < right:\n",
    "        if title_clean[left] != title_clean[right]:\n",
    "            return False\n",
    "        left += 1\n",
    "        right -= 1\n",
    "    return True\n",
    "        \n",
    "print(is_symmetrical_title(\"A Santa at NASA\"))\n",
    "print(is_symmetrical_title(\"Social Media\")) "
   ]
  }
 ],
 "metadata": {
  "kernelspec": {
   "display_name": "Python 3",
   "language": "python",
   "name": "python3"
  },
  "language_info": {
   "codemirror_mode": {
    "name": "ipython",
    "version": 3
   },
   "file_extension": ".py",
   "mimetype": "text/x-python",
   "name": "python",
   "nbconvert_exporter": "python",
   "pygments_lexer": "ipython3",
   "version": "3.13.2"
  }
 },
 "nbformat": 4,
 "nbformat_minor": 2
}
