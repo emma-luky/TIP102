{
 "cells": [
  {
   "cell_type": "code",
   "execution_count": null,
   "metadata": {},
   "outputs": [
    {
     "name": "stdout",
     "output_type": "stream",
     "text": [
      "[1, 2, 3, 4, 5]\n",
      "[2, 4, 5, 6, 7]\n"
     ]
    }
   ],
   "source": [
    "# You are in charge of overseeing the blueprint approval process for various architectural designs.\n",
    "# Each blueprint has a specific complexity level, represented by an integer. Due to the complex nature\n",
    "# of the designs, the approval process follows a strict order:\n",
    "\n",
    "# Blueprints with lower complexity should be reviewed first.\n",
    "# If a blueprint with higher complexity is submitted, it must wait until all simpler blueprints have been approved.\n",
    "# Your task is to simulate the blueprint approval process using a queue. You will receive a list of blueprints,\n",
    "# each represented by their complexity level in the order they are submitted.\n",
    "# Process the blueprints such that the simpler designs (lower numbers) are approved before more complex ones.\n",
    "\n",
    "# Return the order in which the blueprints are approved.\n",
    "from collections import deque\n",
    "\n",
    "def blueprint_approval(blueprints):\n",
    "    ## Solution 1\n",
    "    # queue = deque()\n",
    "    # blueprints = sorted(blueprints)\n",
    "\n",
    "    # for num in blueprints:\n",
    "    #     queue.append(num)\n",
    "    \n",
    "    # return list(queue)\n",
    "    ## Solution 2\n",
    "    queue = deque(blueprints)\n",
    "    approved = sorted(queue)\n",
    "    return approved\n",
    "\n",
    "print(blueprint_approval([3, 5, 2, 1, 4])) \n",
    "print(blueprint_approval([7, 4, 6, 2, 5])) "
   ]
  },
  {
   "cell_type": "code",
   "execution_count": 5,
   "metadata": {},
   "outputs": [
    {
     "name": "stdout",
     "output_type": "stream",
     "text": [
      "4\n",
      "4\n",
      "6\n"
     ]
    }
   ],
   "source": [
    "# You are given an array floors representing the heights of different building floors.\n",
    "# Your task is to design a skyscraper using these floors, where each floor must be placed\n",
    "# on top of a floor with equal or greater height. However, you can only start a new skyscraper\n",
    "# when necessary, meaning when no more floors can be added to the current skyscraper according to the rules.\n",
    "\n",
    "# Return the number of skyscrapers you can build using the given floors.\n",
    "\n",
    "def build_skyscrapers(floors):\n",
    "    if len(floors) == 0:\n",
    "        return 0\n",
    "    skyscrapers = 1\n",
    "    for i in range(len(floors)-1):\n",
    "        if floors[i] > floors[i+1]:\n",
    "            skyscrapers += 1\n",
    "    return skyscrapers\n",
    "\n",
    "\n",
    "print(build_skyscrapers([10, 5, 8, 3, 7, 2, 9])) \n",
    "print(build_skyscrapers([7, 3, 7, 3, 5, 1, 6]))  \n",
    "print(build_skyscrapers([8, 6, 4, 7, 5, 3, 2])) "
   ]
  },
  {
   "cell_type": "code",
   "execution_count": 6,
   "metadata": {},
   "outputs": [
    {
     "name": "stdout",
     "output_type": "stream",
     "text": [
      "49\n",
      "1\n"
     ]
    }
   ],
   "source": [
    "# You are an architect designing a corridor for a futuristic dream space. The corridor is\n",
    "# represented by a list of integer values where each value represents the width of a segment\n",
    "# of the corridor. Your goal is to find two segments such that the corridor formed between\n",
    "# them (including the two segments) has the maximum possible area. The area is defined as the\n",
    "# minimum width of the two segments multiplied by the distance between them.\n",
    "\n",
    "# You need to return the maximum possible area that can be achieved.\n",
    "\n",
    "def max_corridor_area(segments):\n",
    "    max_area = 0\n",
    "    for index in range(len(segments)):\n",
    "        for i in range(index + 1, len(segments)):\n",
    "            area = (i-index)*min(segments[i], segments[index])\n",
    "            if area > max_area:\n",
    "                max_area = area\n",
    "    return max_area\n",
    "\n",
    "\n",
    "\n",
    "print(max_corridor_area([1, 8, 6, 2, 5, 4, 8, 3, 7])) \n",
    "print(max_corridor_area([1, 1])) "
   ]
  }
 ],
 "metadata": {
  "kernelspec": {
   "display_name": "Python 3",
   "language": "python",
   "name": "python3"
  },
  "language_info": {
   "codemirror_mode": {
    "name": "ipython",
    "version": 3
   },
   "file_extension": ".py",
   "mimetype": "text/x-python",
   "name": "python",
   "nbconvert_exporter": "python",
   "pygments_lexer": "ipython3",
   "version": "3.13.2"
  }
 },
 "nbformat": 4,
 "nbformat_minor": 2
}
