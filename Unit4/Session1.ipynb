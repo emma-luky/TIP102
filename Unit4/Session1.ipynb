{
 "cells": [
  {
   "cell_type": "code",
   "execution_count": null,
   "metadata": {},
   "outputs": [],
   "source": [
    "def extract_nft_names(nft_collection):\n",
    "    nft_names = [] # space O(n)\n",
    "    for nft in nft_collection: # time O(n)\n",
    "        nft_names.append(nft[\"name\"])\n",
    "    return nft_names\n",
    "\n",
    "# Example usage:\n",
    "nft_collection = [\n",
    "    {\"name\": \"Abstract Horizon\", \"creator\": \"ArtByAlex\", \"value\": 5.4},\n",
    "    {\"name\": \"Pixel Dreams\", \"creator\": \"DreamyPixel\", \"value\": 7.2},\n",
    "    {\"name\": \"Future City\", \"creator\": \"UrbanArt\", \"value\": 3.8}\n",
    "]\n",
    "\n",
    "nft_collection_2 = [\n",
    "    {\"name\": \"Crypto Kitty\", \"creator\": \"CryptoPets\", \"value\": 10.5},\n",
    "    {\"name\": \"Galactic Voyage\", \"creator\": \"SpaceArt\", \"value\": 6.7}\n",
    "]\n",
    "\n",
    "nft_collection_3 = [\n",
    "    {\"name\": \"Golden Hour\", \"creator\": \"SunsetArtist\", \"value\": 8.9}\n",
    "]\n",
    "\n",
    "print(extract_nft_names(nft_collection))\n",
    "print(extract_nft_names(nft_collection_2))\n",
    "print(extract_nft_names(nft_collection_3))"
   ]
  },
  {
   "cell_type": "code",
   "execution_count": 1,
   "metadata": {},
   "outputs": [
    {
     "name": "stdout",
     "output_type": "stream",
     "text": [
      "['Abstract Horizon', 'Pixel Dreams']\n",
      "['Golden Hour']\n",
      "[]\n"
     ]
    }
   ],
   "source": [
    "# def extract_nft_names(nft_collection):\n",
    "#     nft_names = []\n",
    "#     for nft in nft_collection:\n",
    "#         nft_names += nft[\"name\"] # cannot plus equals\n",
    "#     return nft_names\n",
    "\n",
    "def extract_nft_names(nft_collection):\n",
    "    nft_names = []\n",
    "    for nft in nft_collection:\n",
    "        nft_names.append(nft[\"name\"])\n",
    "    return nft_names\n",
    "\n",
    "nft_collection = [\n",
    "    {\"name\": \"Abstract Horizon\", \"creator\": \"ArtByAlex\", \"value\": 5.4},\n",
    "    {\"name\": \"Pixel Dreams\", \"creator\": \"DreamyPixel\", \"value\": 7.2}\n",
    "]\n",
    "\n",
    "nft_collection_2 = [\n",
    "    {\"name\": \"Golden Hour\", \"creator\": \"SunsetArtist\", \"value\": 8.9}\n",
    "]\n",
    "\n",
    "nft_collection_3 = []\n",
    "\n",
    "print(extract_nft_names(nft_collection))\n",
    "print(extract_nft_names(nft_collection_2))\n",
    "print(extract_nft_names(nft_collection_3))"
   ]
  },
  {
   "cell_type": "code",
   "execution_count": null,
   "metadata": {},
   "outputs": [
    {
     "name": "stdout",
     "output_type": "stream",
     "text": [
      "['ArtByAlex']\n",
      "['SpaceArt']\n",
      "[]\n"
     ]
    }
   ],
   "source": [
    "def identify_popular_creators(nft_collection):\n",
    "    frequency_names = {} # space O(n)\n",
    "    for collection in nft_collection: # time O(n)\n",
    "        creator = collection['creator']\n",
    "        if creator in frequency_names:\n",
    "            frequency_names[creator] += 1\n",
    "        else:\n",
    "            frequency_names[creator] = 1\n",
    "\n",
    "    popular = [] # space O(n)\n",
    "    for key in frequency_names: # time O(n)\n",
    "        if frequency_names[key] > 1:\n",
    "            popular.append(key)\n",
    "    return popular\n",
    "\n",
    "# Overall time: O(n)\n",
    "# Overall space: O(n)\n",
    "\n",
    "\n",
    "nft_collection = [\n",
    "    {\"name\": \"Abstract Horizon\", \"creator\": \"ArtByAlex\", \"value\": 5.4},\n",
    "    {\"name\": \"Pixel Dreams\", \"creator\": \"DreamyPixel\", \"value\": 7.2},\n",
    "    {\"name\": \"Urban Jungle\", \"creator\": \"ArtByAlex\", \"value\": 4.5}\n",
    "]\n",
    "\n",
    "nft_collection_2 = [\n",
    "    {\"name\": \"Crypto Kitty\", \"creator\": \"CryptoPets\", \"value\": 10.5},\n",
    "    {\"name\": \"Galactic Voyage\", \"creator\": \"SpaceArt\", \"value\": 6.7},\n",
    "    {\"name\": \"Future Galaxy\", \"creator\": \"SpaceArt\", \"value\": 8.3}\n",
    "]\n",
    "\n",
    "nft_collection_3 = [\n",
    "    {\"name\": \"Golden Hour\", \"creator\": \"SunsetArtist\", \"value\": 8.9}\n",
    "]\n",
    "\n",
    "print(identify_popular_creators(nft_collection))\n",
    "print(identify_popular_creators(nft_collection_2))\n",
    "print(identify_popular_creators(nft_collection_3))"
   ]
  },
  {
   "cell_type": "code",
   "execution_count": null,
   "metadata": {},
   "outputs": [
    {
     "name": "stdout",
     "output_type": "stream",
     "text": [
      "5.7\n",
      "9.15\n",
      "0\n"
     ]
    }
   ],
   "source": [
    "def average_nft_value(nft_collection):\n",
    "    if len(nft_collection) == 0:\n",
    "        return 0\n",
    "    total = 0 # space O(1)\n",
    "    for collection in nft_collection: # time O(n)\n",
    "        total += collection['value']\n",
    "    return total/len(nft_collection)\n",
    "\n",
    "nft_collection = [\n",
    "    {\"name\": \"Abstract Horizon\", \"creator\": \"ArtByAlex\", \"value\": 5.4},\n",
    "    {\"name\": \"Pixel Dreams\", \"creator\": \"DreamyPixel\", \"value\": 7.2},\n",
    "    {\"name\": \"Urban Jungle\", \"creator\": \"ArtByAlex\", \"value\": 4.5}\n",
    "]\n",
    "print(average_nft_value(nft_collection))\n",
    "\n",
    "nft_collection_2 = [\n",
    "    {\"name\": \"Golden Hour\", \"creator\": \"SunsetArtist\", \"value\": 8.9},\n",
    "    {\"name\": \"Sunset Serenade\", \"creator\": \"SunsetArtist\", \"value\": 9.4}\n",
    "]\n",
    "print(average_nft_value(nft_collection_2))\n",
    "\n",
    "nft_collection_3 = []\n",
    "print(average_nft_value(nft_collection_3))"
   ]
  },
  {
   "cell_type": "code",
   "execution_count": null,
   "metadata": {},
   "outputs": [
    {
     "name": "stdout",
     "output_type": "stream",
     "text": [
      "['Urban Jungle', 'City Lights']\n",
      "['Golden Hour', 'Sunset Serenade']\n",
      "[]\n"
     ]
    }
   ],
   "source": [
    "def search_nft_by_tag(nft_collections, tag):\n",
    "    tag_collections = [] # space O(n)\n",
    "    # loop through the list\n",
    "    for collections in nft_collections: # time O(n)\n",
    "        # loop throught the inner list\n",
    "        for collection in collections: # time O(n)\n",
    "            # if tags == tag, add to collection_arr\n",
    "            if tag in collection['tags']: # time O(n)\n",
    "                tag_collections.append(collection['name'])\n",
    "    return tag_collections\n",
    "\n",
    "# Overall time: O(n^3)\n",
    "# Overall space: O(n)\n",
    "\n",
    "nft_collections = [\n",
    "    [\n",
    "        {\"name\": \"Abstract Horizon\", \"tags\": [\"abstract\", \"modern\"]},\n",
    "        {\"name\": \"Pixel Dreams\", \"tags\": [\"pixel\", \"retro\"]}\n",
    "    ],\n",
    "    [\n",
    "        {\"name\": \"Urban Jungle\", \"tags\": [\"urban\", \"landscape\"]},\n",
    "        {\"name\": \"City Lights\", \"tags\": [\"modern\", \"landscape\"]}\n",
    "    ]\n",
    "]\n",
    "\n",
    "nft_collections_2 = [\n",
    "    [\n",
    "        {\"name\": \"Golden Hour\", \"tags\": [\"sunset\", \"landscape\"]},\n",
    "        {\"name\": \"Sunset Serenade\", \"tags\": [\"sunset\", \"serene\"]}\n",
    "    ],\n",
    "    [\n",
    "        {\"name\": \"Pixel Odyssey\", \"tags\": [\"pixel\", \"adventure\"]}\n",
    "    ]\n",
    "]\n",
    "\n",
    "nft_collections_3 = [\n",
    "    [\n",
    "        {\"name\": \"The Last Piece\", \"tags\": [\"finale\", \"abstract\"]}\n",
    "    ],\n",
    "    [\n",
    "        {\"name\": \"Ocean Waves\", \"tags\": [\"seascape\", \"calm\"]},\n",
    "        {\"name\": \"Mountain Peak\", \"tags\": [\"landscape\", \"adventure\"]}\n",
    "    ]\n",
    "]\n",
    "\n",
    "print(search_nft_by_tag(nft_collections, \"landscape\"))\n",
    "print(search_nft_by_tag(nft_collections_2, \"sunset\"))\n",
    "print(search_nft_by_tag(nft_collections_3, \"modern\"))"
   ]
  },
  {
   "cell_type": "code",
   "execution_count": null,
   "metadata": {},
   "outputs": [
    {
     "name": "stdout",
     "output_type": "stream",
     "text": [
      "['Abstract Horizon', 'Pixel Dreams', 'Urban Jungle']\n",
      "['Golden Hour', 'Sunset Serenade', 'Ocean Waves']\n",
      "['Crypto Kitty', 'Galactic Voyage']\n"
     ]
    }
   ],
   "source": [
    "def process_nft_queue(nft_queue):\n",
    "    output = [] # space O(n)\n",
    "    for item in nft_queue: # time O(n)\n",
    "        output.append(item['name'])\n",
    "    return output\n",
    "\n",
    "nft_queue = [\n",
    "    {\"name\": \"Abstract Horizon\", \"processing_time\": 2},\n",
    "    {\"name\": \"Pixel Dreams\", \"processing_time\": 3},\n",
    "    {\"name\": \"Urban Jungle\", \"processing_time\": 1}\n",
    "]\n",
    "print(process_nft_queue(nft_queue))\n",
    "\n",
    "nft_queue_2 = [\n",
    "    {\"name\": \"Golden Hour\", \"processing_time\": 4},\n",
    "    {\"name\": \"Sunset Serenade\", \"processing_time\": 2},\n",
    "    {\"name\": \"Ocean Waves\", \"processing_time\": 3}\n",
    "]\n",
    "print(process_nft_queue(nft_queue_2))\n",
    "\n",
    "nft_queue_3 = [\n",
    "    {\"name\": \"Crypto Kitty\", \"processing_time\": 5},\n",
    "    {\"name\": \"Galactic Voyage\", \"processing_time\": 6}\n",
    "]\n",
    "print(process_nft_queue(nft_queue_3))"
   ]
  },
  {
   "cell_type": "code",
   "execution_count": null,
   "metadata": {},
   "outputs": [
    {
     "name": "stdout",
     "output_type": "stream",
     "text": [
      "True\n",
      "True\n",
      "False\n",
      "False\n"
     ]
    }
   ],
   "source": [
    "def validate_nft_actions(actions):\n",
    "    stack = [] # space O(n)\n",
    "    for action in actions: # time O(n)\n",
    "        if action =='add':\n",
    "            stack.append(action)\n",
    "        else:\n",
    "            if stack:\n",
    "                stack.pop()\n",
    "            else:\n",
    "                return False\n",
    "    if stack:\n",
    "        return False\n",
    "    return True\n",
    "\n",
    "actions = [\"add\", \"add\", \"remove\", \"remove\"]\n",
    "actions_2 = [\"add\", \"remove\", \"add\", \"remove\"]\n",
    "actions_3 = [\"add\", \"remove\", \"remove\", \"add\"]\n",
    "actions_4 = [\"remove\", \"remove\", \"remove\", \"add\"]\n",
    "\n",
    "print(validate_nft_actions(actions))\n",
    "print(validate_nft_actions(actions_2))\n",
    "print(validate_nft_actions(actions_3))\n",
    "print(validate_nft_actions(actions_4))"
   ]
  },
  {
   "cell_type": "code",
   "execution_count": 13,
   "metadata": {},
   "outputs": [
    {
     "name": "stdout",
     "output_type": "stream",
     "text": [
      "(7.2, 9.0)\n",
      "(6.3, 7.8)\n",
      "(2.5, 4.0)\n",
      "(4.0, 6.0)\n"
     ]
    }
   ],
   "source": [
    "def find_closest_nft_values(nft_values, budget):\n",
    "    i = 0 # space O(1)\n",
    "    while (nft_values[i] <= budget): # O(n)\n",
    "        i += 1\n",
    "    if nft_values[i] == budget:\n",
    "        if i == 0 or abs(nft_values[i+1] - budget) <= abs(nft_values[i-1] - budget):\n",
    "            return (nft_values[i], nft_values[i+1])\n",
    "        if i == len(nft_values) - 1 or abs(nft_values[i-1] - budget) <= abs(nft_values[i+1] - budget):\n",
    "            return (nft_values[i -1], nft_values[i])\n",
    "    return ((nft_values[i -1], nft_values[i]))\n",
    "\n",
    "\n",
    "nft_values = [3.5, 5.4, 7.2, 9.0, 10.5]\n",
    "# nft_values_1 = [3.5, 5.4, 7.2, 7.2, 9.0, 10.5] # duplicates?\n",
    "nft_values_2 = [2.0, 4.5, 6.3, 7.8, 12.1]\n",
    "nft_values_3 = [1.0, 2.5, 4.0, 6.0, 9.0]\n",
    "nft_values_4 = [1.0, 2.5, 4.0, 6.0, 9.0]\n",
    "\n",
    "print(find_closest_nft_values(nft_values, 8.0))\n",
    "# print(find_closest_nft_values(nft_values_1, 8.0))\n",
    "print(find_closest_nft_values(nft_values_2, 6.5))\n",
    "print(find_closest_nft_values(nft_values_3, 3.0))\n",
    "print(find_closest_nft_values(nft_values_4, 4.0))"
   ]
  }
 ],
 "metadata": {
  "kernelspec": {
   "display_name": "Python 3",
   "language": "python",
   "name": "python3"
  },
  "language_info": {
   "codemirror_mode": {
    "name": "ipython",
    "version": 3
   },
   "file_extension": ".py",
   "mimetype": "text/x-python",
   "name": "python",
   "nbconvert_exporter": "python",
   "pygments_lexer": "ipython3",
   "version": "3.13.2"
  }
 },
 "nbformat": 4,
 "nbformat_minor": 2
}
