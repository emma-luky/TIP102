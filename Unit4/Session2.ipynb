{
 "cells": [
  {
   "cell_type": "code",
   "execution_count": 4,
   "metadata": {},
   "outputs": [
    {
     "name": "stdout",
     "output_type": "stream",
     "text": [
      "True\n",
      "True\n",
      "False\n"
     ]
    }
   ],
   "source": [
    "def find_task_pair(task_times, available_time):\n",
    "    for i in range(len(task_times) - 1):\n",
    "        for j in range(i + 1, len(task_times)):\n",
    "            if task_times[i] + task_times[j] == available_time:\n",
    "                return True\n",
    "    return False\n",
    "\n",
    "task_times = [30, 45, 60, 90, 120]\n",
    "available_time = 105\n",
    "print(find_task_pair(task_times, available_time))\n",
    "\n",
    "task_times_2 = [15, 25, 35, 45, 55]\n",
    "available_time = 100\n",
    "print(find_task_pair(task_times_2, available_time))\n",
    "\n",
    "task_times_3 = [20, 30, 50, 70]\n",
    "available_time = 60\n",
    "print(find_task_pair(task_times_3, available_time))"
   ]
  },
  {
   "cell_type": "code",
   "execution_count": null,
   "metadata": {},
   "outputs": [],
   "source": []
  }
 ],
 "metadata": {
  "kernelspec": {
   "display_name": "Python 3",
   "language": "python",
   "name": "python3"
  },
  "language_info": {
   "codemirror_mode": {
    "name": "ipython",
    "version": 3
   },
   "file_extension": ".py",
   "mimetype": "text/x-python",
   "name": "python",
   "nbconvert_exporter": "python",
   "pygments_lexer": "ipython3",
   "version": "3.13.2"
  }
 },
 "nbformat": 4,
 "nbformat_minor": 2
}
